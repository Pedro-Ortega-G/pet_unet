{
  "metadata": {
    "kernelspec": {
      "language": "python",
      "display_name": "Python 3",
      "name": "python3"
    },
    "language_info": {
      "name": "python",
      "version": "3.10.12",
      "mimetype": "text/x-python",
      "codemirror_mode": {
        "name": "ipython",
        "version": 3
      },
      "pygments_lexer": "ipython3",
      "nbconvert_exporter": "python",
      "file_extension": ".py"
    },
    "kaggle": {
      "accelerator": "gpu",
      "dataSources": [
        {
          "sourceId": 10943476,
          "sourceType": "datasetVersion",
          "datasetId": 6806145
        }
      ],
      "dockerImageVersionId": 30559,
      "isInternetEnabled": true,
      "language": "python",
      "sourceType": "notebook",
      "isGpuEnabled": true
    },
    "colab": {
      "name": "Pet-Unet 0c53f9",
      "provenance": [],
      "include_colab_link": true
    }
  },
  "nbformat_minor": 0,
  "nbformat": 4,
  "cells": [
    {
      "cell_type": "markdown",
      "metadata": {
        "id": "view-in-github",
        "colab_type": "text"
      },
      "source": [
        "<a href=\"https://colab.research.google.com/github/Pedro-Ortega-G/pet_unet/blob/main/Pet_Unet_0c53f9.ipynb\" target=\"_parent\"><img src=\"https://colab.research.google.com/assets/colab-badge.svg\" alt=\"Open In Colab\"/></a>"
      ]
    },
    {
      "source": [
        "# IMPORTANT: RUN THIS CELL IN ORDER TO IMPORT YOUR KAGGLE DATA SOURCES,\n",
        "# THEN FEEL FREE TO DELETE THIS CELL.\n",
        "# NOTE: THIS NOTEBOOK ENVIRONMENT DIFFERS FROM KAGGLE'S PYTHON\n",
        "# ENVIRONMENT SO THERE MAY BE MISSING LIBRARIES USED BY YOUR\n",
        "# NOTEBOOK.\n",
        "import kagglehub\n",
        "lucasiturriago_oxfordiiitpet_path = kagglehub.dataset_download('lucasiturriago/oxfordiiitpet')\n",
        "\n",
        "print('Data source import complete.')\n"
      ],
      "metadata": {
        "id": "d1HQyvBRmqIK"
      },
      "cell_type": "code",
      "outputs": [],
      "execution_count": null
    },
    {
      "cell_type": "code",
      "source": [
        "%%capture\n",
        "!pip install -U git+https://github.com/UN-GCPDS/python-gcpds.image_segmentation.git"
      ],
      "metadata": {
        "execution": {
          "iopub.status.busy": "2025-03-06T21:30:53.754732Z",
          "iopub.execute_input": "2025-03-06T21:30:53.754957Z",
          "iopub.status.idle": "2025-03-06T21:31:06.578987Z",
          "shell.execute_reply.started": "2025-03-06T21:30:53.754934Z",
          "shell.execute_reply": "2025-03-06T21:31:06.578027Z"
        },
        "trusted": true,
        "id": "ac6hdaiPmqIR"
      },
      "outputs": [],
      "execution_count": null
    },
    {
      "cell_type": "code",
      "source": [
        "!mkdir -p ./datasets/OxfordIIITPet && cp -r /kaggle/input/oxfordiiitpet/annotations /kaggle/input/oxfordiiitpet/images ./datasets/OxfordIIITPet"
      ],
      "metadata": {
        "trusted": true,
        "execution": {
          "iopub.status.busy": "2025-03-06T21:31:11.761659Z",
          "iopub.execute_input": "2025-03-06T21:31:11.762259Z",
          "iopub.status.idle": "2025-03-06T21:32:14.870767Z",
          "shell.execute_reply.started": "2025-03-06T21:31:11.762228Z",
          "shell.execute_reply": "2025-03-06T21:32:14.86975Z"
        },
        "id": "u3RUNHGFmqIS"
      },
      "outputs": [],
      "execution_count": null
    },
    {
      "cell_type": "code",
      "source": [
        "import os\n",
        "import re\n",
        "import glob\n",
        "import shutil\n",
        "import numpy as np\n",
        "from PIL import Image\n",
        "from functools import partial\n",
        "import matplotlib.pyplot as plt\n",
        "\n",
        "import tensorflow as tf\n",
        "import keras\n",
        "from keras import backend as K\n",
        "from keras.optimizers import Adam\n",
        "from tensorflow.keras.losses import Loss\n",
        "from tensorflow.keras.metrics import Metric\n",
        "from tensorflow.keras.models import Model\n",
        "from tensorflow.keras.models import load_model\n",
        "from tensorflow.keras import Model, layers, regularizers\n",
        "from gcpds.image_segmentation.models import unet_baseline"
      ],
      "metadata": {
        "_uuid": "6d2bfc46-4244-48ca-86ae-31becb146040",
        "_cell_guid": "5d8527a1-88a2-4a6b-b389-bea6a6a6d33c",
        "jupyter": {
          "outputs_hidden": false
        },
        "execution": {
          "iopub.status.busy": "2025-03-06T21:32:34.160356Z",
          "iopub.execute_input": "2025-03-06T21:32:34.160821Z",
          "iopub.status.idle": "2025-03-06T21:32:42.624239Z",
          "shell.execute_reply.started": "2025-03-06T21:32:34.160779Z",
          "shell.execute_reply": "2025-03-06T21:32:42.623609Z"
        },
        "trusted": true,
        "id": "At4XWi7FmqIS",
        "outputId": "acc4b0d2-16a6-4399-eacc-8be53e8349c5"
      },
      "outputs": [
        {
          "name": "stderr",
          "text": "/opt/conda/lib/python3.10/site-packages/scipy/__init__.py:146: UserWarning: A NumPy version >=1.16.5 and <1.23.0 is required for this version of SciPy (detected version 1.23.5\n  warnings.warn(f\"A NumPy version >={np_minversion} and <{np_maxversion}\"\n",
          "output_type": "stream"
        }
      ],
      "execution_count": null
    },
    {
      "cell_type": "code",
      "source": [
        "class CustomDataLoader:\n",
        "\n",
        "    def __init__(self, data_dir, batch_size, image_size, train_split=0.7, val_split=0.15, test_split=0.15):\n",
        "\n",
        "        self.data_dir = data_dir\n",
        "        self.batch_size = batch_size\n",
        "        self.image_size = image_size\n",
        "\n",
        "        # Verificar que los porcentajes sumen 1.0\n",
        "        total_split = train_split + val_split + test_split\n",
        "        if abs(total_split - 1.0) > 1e-6:\n",
        "            raise ValueError(f\"Los porcentajes de split deben sumar 1.0, pero suman {total_split}\")\n",
        "\n",
        "        self.train_split = train_split\n",
        "        self.val_split = val_split\n",
        "        self.test_split = test_split\n",
        "\n",
        "    def load_patch_images(self):\n",
        "        # Create the path for patch images\n",
        "        patch_path_pattern = os.path.join(self.data_dir, 'images', '*.jpg')\n",
        "        patch_files = glob.glob(patch_path_pattern)\n",
        "\n",
        "        # Key function to convert numbers in strings to integers for sorting\n",
        "        def alphanumeric_key(s):\n",
        "            # Split the string into parts (numbers and text)\n",
        "            parts = re.split(r'(\\d+)', s)\n",
        "            # Convert numeric parts to integers, leaving non-numeric parts unchanged\n",
        "            return [int(part) if part.isdigit() else part for part in parts]\n",
        "\n",
        "        patch_files = sorted(patch_files, key=alphanumeric_key)\n",
        "        # Print the complete path and the number of found patch images\n",
        "        print(f\"Complete path for patches: {patch_path_pattern}\")\n",
        "        print(f\"Number of images files found: {len(patch_files)}\")\n",
        "        # Create a TensorFlow dataset from the patch file paths\n",
        "        patch_ds = tf.data.Dataset.from_tensor_slices(patch_files)\n",
        "        # Map each file path to a processed image\n",
        "        patch_ds = patch_ds.map(self.process_patch, num_parallel_calls=tf.data.AUTOTUNE)\n",
        "        return patch_ds, len(patch_files)\n",
        "\n",
        "    def load_masks(self):\n",
        "\n",
        "        # Create the path for masks images\n",
        "        masks_path_pattern = os.path.join(self.data_dir, 'annotations', '*.png')\n",
        "        masks_files = glob.glob(masks_path_pattern)\n",
        "\n",
        "        # Key function to convert numbers in strings to integers for sorting\n",
        "        def alphanumeric_key(s):\n",
        "            # Split the string into parts (numbers and text)\n",
        "            parts = re.split(r'(\\d+)', s)\n",
        "            # Convert numeric parts to integers, leaving non-numeric parts unchanged\n",
        "            return [int(part) if part.isdigit() else part for part in parts]\n",
        "\n",
        "        masks_files = sorted(masks_files, key=alphanumeric_key)\n",
        "        # Print the complete path and the number of found masks images\n",
        "        print(f\"Complete path for masks: {masks_path_pattern}\")\n",
        "        print(f\"Number of images files found: {len(masks_files)}\")\n",
        "        # Create a TensorFlow dataset from the patch file paths\n",
        "        masks_ds = tf.data.Dataset.from_tensor_slices(masks_files)\n",
        "        # Map each file path to a processed image\n",
        "        masks_ds = masks_ds.map(self.process_masks, num_parallel_calls=tf.data.AUTOTUNE)\n",
        "        return masks_ds, len(masks_files)\n",
        "\n",
        "    def process_patch(self, file_path):\n",
        "        img = tf.io.read_file(file_path)  # Read the image file\n",
        "        img = tf.image.decode_jpeg(img, channels=3)  # Decode JPEG image\n",
        "        img = tf.image.resize(img, self.image_size)  # Resize image\n",
        "        img /= 255.0  # Normalize to [0, 1]\n",
        "        return img\n",
        "\n",
        "    def process_masks(self, file_path):\n",
        "        img = tf.io.read_file(file_path)  # Read the image file\n",
        "        img = tf.image.decode_png(img, channels=1)  # Decode PNG masks\n",
        "        img = tf.image.resize(img, self.image_size)  # Resize image\n",
        "        img /= 255.0  # Normalize to [0, 1]\n",
        "        return img\n",
        "\n",
        "    def get_dataset_partitions(self):\n",
        "        # Load patches and masks\n",
        "        patch_ds, n_patches = self.load_patch_images()\n",
        "        mask_ds, n_masks = self.load_masks()\n",
        "\n",
        "        # Verificar que tenemos el mismo número de imágenes y máscaras\n",
        "        if n_patches != n_masks:\n",
        "            raise ValueError(f\"El número de imágenes ({n_patches}) y máscaras ({n_masks}) no coincide\")\n",
        "\n",
        "        # Combine patches and masks\n",
        "        dataset = tf.data.Dataset.zip((patch_ds, mask_ds))\n",
        "\n",
        "        # Calcular el número de elementos para cada partición\n",
        "        n_total = n_patches\n",
        "        n_train = int(n_total * self.train_split)\n",
        "        n_val = int(n_total * self.val_split)\n",
        "        n_test = n_total - n_train - n_val\n",
        "\n",
        "        # Mezclar el dataset completo antes de particionarlo\n",
        "        dataset = dataset.shuffle(buffer_size=n_total, seed=42, reshuffle_each_iteration=False)\n",
        "\n",
        "        # Particionar el dataset\n",
        "        train_ds = dataset.take(n_train)\n",
        "        temp_ds = dataset.skip(n_train)\n",
        "        val_ds = temp_ds.take(n_val)\n",
        "        test_ds = temp_ds.skip(n_val)\n",
        "\n",
        "        # Aplicar batch y prefetch a cada partición\n",
        "        train_ds = train_ds.batch(self.batch_size).prefetch(tf.data.AUTOTUNE)\n",
        "        val_ds = val_ds.batch(self.batch_size).prefetch(tf.data.AUTOTUNE)\n",
        "        test_ds = test_ds.batch(self.batch_size).prefetch(tf.data.AUTOTUNE)\n",
        "\n",
        "        print(f\"Dataset particionado en: train={n_train} imágenes, validation={n_val} imágenes, test={n_test} imágenes\")\n",
        "\n",
        "        return train_ds, val_ds, test_ds\n",
        "\n",
        "    def get_dataset(self):\n",
        "        # Mantener el método anterior para compatibilidad\n",
        "        # Load patches and masks\n",
        "        patch_ds, _ = self.load_patch_images()\n",
        "        mask_ds, _ = self.load_masks()\n",
        "\n",
        "        # Combine patches and masks, apply batching and prefetching\n",
        "        dataset = tf.data.Dataset.zip((patch_ds, mask_ds))\n",
        "        dataset = dataset.batch(self.batch_size).prefetch(tf.data.AUTOTUNE)\n",
        "        return dataset"
      ],
      "metadata": {
        "trusted": true,
        "execution": {
          "iopub.status.busy": "2025-03-06T21:32:42.625794Z",
          "iopub.execute_input": "2025-03-06T21:32:42.626249Z",
          "iopub.status.idle": "2025-03-06T21:32:42.641882Z",
          "shell.execute_reply.started": "2025-03-06T21:32:42.626226Z",
          "shell.execute_reply": "2025-03-06T21:32:42.641019Z"
        },
        "id": "pDoVP0yKmqIU"
      },
      "outputs": [],
      "execution_count": null
    },
    {
      "cell_type": "code",
      "source": [
        "# Crear una instancia del dataloader con porcentajes personalizados\n",
        "dataloader = CustomDataLoader(\n",
        "    data_dir='/kaggle/working/datasets/OxfordIIITPet',\n",
        "    batch_size=64,\n",
        "    image_size=(128, 128),\n",
        "    train_split=0.8,   # 80% para entrenamiento\n",
        "    val_split=0.1,     # 10% para validación\n",
        "    test_split=0.1     # 10% para pruebas\n",
        ")\n",
        "\n",
        "# Obtener las particiones\n",
        "train_ds, val_ds, test_ds = dataloader.get_dataset_partitions()"
      ],
      "metadata": {
        "trusted": true,
        "execution": {
          "iopub.status.busy": "2025-03-06T21:32:42.642871Z",
          "iopub.execute_input": "2025-03-06T21:32:42.643166Z",
          "iopub.status.idle": "2025-03-06T21:32:43.868896Z",
          "shell.execute_reply.started": "2025-03-06T21:32:42.643145Z",
          "shell.execute_reply": "2025-03-06T21:32:43.868062Z"
        },
        "id": "Y_2PIZyLmqIV",
        "outputId": "da2ff4ff-5ccf-4981-8676-1b99e2eaad10"
      },
      "outputs": [
        {
          "name": "stdout",
          "text": "Complete path for patches: /kaggle/working/datasets/OxfordIIITPet/images/*.jpg\nNumber of images files found: 7390\nComplete path for masks: /kaggle/working/datasets/OxfordIIITPet/annotations/*.png\nNumber of images files found: 7390\nDataset particionado en: train=5912 imágenes, validation=739 imágenes, test=739 imágenes\n",
          "output_type": "stream"
        }
      ],
      "execution_count": null
    },
    {
      "cell_type": "code",
      "source": [
        "def dice_coef(y_true, y_pred, smooth=1):\n",
        "    intersection = K.sum(K.abs(y_true * y_pred), axis=-1)\n",
        "    return (2. * intersection + smooth) / (K.sum(K.square(y_true), axis=-1) + K.sum(K.square(y_pred), axis=-1) + smooth)\n",
        "\n"
      ],
      "metadata": {
        "execution": {
          "iopub.status.busy": "2025-03-06T21:32:43.870991Z",
          "iopub.execute_input": "2025-03-06T21:32:43.871314Z",
          "iopub.status.idle": "2025-03-06T21:32:43.875807Z",
          "shell.execute_reply.started": "2025-03-06T21:32:43.871283Z",
          "shell.execute_reply": "2025-03-06T21:32:43.875011Z"
        },
        "trusted": true,
        "id": "Hv-YqvfzmqIW"
      },
      "outputs": [],
      "execution_count": null
    },
    {
      "cell_type": "code",
      "source": [
        "def dice_metric(y_true, y_pred, smooth=1e-7, axis=(1, 2), return_mean=True):\n",
        "    y_true = tf.cast(y_true, tf.float32)\n",
        "    y_true = tf.where(y_true > 0.5, 1.0, 0.0)\n",
        "    y_pred = tf.cast(y_pred, tf.float32)\n",
        "    y_pred = tf.where(y_pred > 0.5, 1.0, 0.0)\n",
        "    intersection = tf.reduce_sum(y_true * y_pred, axis=axis)\n",
        "    union = tf.reduce_sum(y_true, axis=axis) + tf.reduce_sum(y_pred, axis=axis)\n",
        "    dice = (2. * intersection + smooth) / (union + smooth)\n",
        "\n",
        "    if return_mean:\n",
        "        return tf.reduce_mean(dice)\n",
        "    else:\n",
        "        return tf.squeeze(tf.transpose(dice, perm=[1, 0]), axis=0)\n",
        "\n",
        "class DiceCoefficient(Loss):\n",
        "    def __init__(self, smooth=1e-4, target_class= None, name='DiceCoefficient', **kwargs):\n",
        "        self.smooth = smooth\n",
        "        self.target_class = target_class\n",
        "        super().__init__(name=name,**kwargs)\n",
        "\n",
        "    def call(self, y_true, y_pred):\n",
        "        intersection = K.sum(y_true * y_pred, axis=[1,2])\n",
        "        union = K.sum(y_true,axis=[1,2]) + K.sum(y_pred,axis=[1,2])\n",
        "        dice_coef = -(2. * intersection + self.smooth) /(union + self.smooth)\n",
        "\n",
        "        if self.target_class != None:\n",
        "            dice_coef = tf.gather(dice_coef,\n",
        "                                  self.target_class, axis=1)\n",
        "        else:\n",
        "            dice_coef = K.mean(dice_coef,axis=-1)\n",
        "\n",
        "        return dice_coef\n",
        "\n",
        "    def get_config(self,):\n",
        "        base_config = super().get_config()\n",
        "        return {**base_config, \"smooth\": self.smooth,\n",
        "                \"target_class\":self.target_class}"
      ],
      "metadata": {
        "trusted": true,
        "execution": {
          "iopub.status.busy": "2025-03-06T21:32:43.876795Z",
          "iopub.execute_input": "2025-03-06T21:32:43.87701Z",
          "iopub.status.idle": "2025-03-06T21:32:43.89262Z",
          "shell.execute_reply.started": "2025-03-06T21:32:43.876991Z",
          "shell.execute_reply": "2025-03-06T21:32:43.891947Z"
        },
        "id": "LsaGbcn0mqIW"
      },
      "outputs": [],
      "execution_count": null
    },
    {
      "cell_type": "code",
      "source": [
        "model= unet_baseline()\n",
        "model.compile(optimizer=Adam(learning_rate=1e-4), loss=DiceCoefficient(), metrics=['accuracy',dice_metric])"
      ],
      "metadata": {
        "execution": {
          "iopub.status.busy": "2025-03-06T21:32:43.893455Z",
          "iopub.execute_input": "2025-03-06T21:32:43.893731Z",
          "iopub.status.idle": "2025-03-06T21:32:44.354057Z",
          "shell.execute_reply.started": "2025-03-06T21:32:43.893711Z",
          "shell.execute_reply": "2025-03-06T21:32:44.35334Z"
        },
        "trusted": true,
        "id": "u6v3gRCgmqIX"
      },
      "outputs": [],
      "execution_count": null
    },
    {
      "cell_type": "code",
      "source": [
        "model.fit(train_ds, validation_data=val_ds, epochs=100)"
      ],
      "metadata": {
        "execution": {
          "iopub.status.busy": "2025-03-06T21:32:44.355009Z",
          "iopub.execute_input": "2025-03-06T21:32:44.355239Z",
          "iopub.status.idle": "2025-03-06T22:16:42.489851Z",
          "shell.execute_reply.started": "2025-03-06T21:32:44.355218Z",
          "shell.execute_reply": "2025-03-06T22:16:42.489Z"
        },
        "trusted": true,
        "id": "PUDeJI8EmqIY",
        "outputId": "d82922ee-f58e-49fd-94bb-bfc204868fe8"
      },
      "outputs": [
        {
          "name": "stdout",
          "text": "Epoch 1/100\n",
          "output_type": "stream"
        },
        {
          "name": "stderr",
          "text": "2025-03-06 21:32:46.461282: E tensorflow/core/grappler/optimizers/meta_optimizer.cc:954] layout failed: INVALID_ARGUMENT: Size of values 0 does not match size of permutation 4 @ fanin shape inSelectV2_1-1-TransposeNHWCToNCHW-LayoutOptimizer\nCorrupt JPEG data: premature end of data segment\nCorrupt JPEG data: 240 extraneous bytes before marker 0xd9\n",
          "output_type": "stream"
        },
        {
          "name": "stdout",
          "text": "93/93 [==============================] - ETA: 0s - loss: -0.5942 - accuracy: 0.6873 - dice_metric: 0.6344",
          "output_type": "stream"
        },
        {
          "name": "stderr",
          "text": "2025-03-06 21:33:07.211338: E tensorflow/core/grappler/optimizers/meta_optimizer.cc:954] layout failed: INVALID_ARGUMENT: Size of values 0 does not match size of permutation 4 @ fanin shape inSelectV2_1-1-TransposeNHWCToNCHW-LayoutOptimizer\nCorrupt JPEG data: premature end of data segment\nCorrupt JPEG data: 240 extraneous bytes before marker 0xd9\n",
          "output_type": "stream"
        },
        {
          "name": "stdout",
          "text": "93/93 [==============================] - 32s 201ms/step - loss: -0.5942 - accuracy: 0.6873 - dice_metric: 0.6344 - val_loss: -0.3449 - val_accuracy: 0.6343 - val_dice_metric: 0.3087\nEpoch 2/100\n",
          "output_type": "stream"
        },
        {
          "name": "stderr",
          "text": "Corrupt JPEG data: premature end of data segment\nCorrupt JPEG data: 240 extraneous bytes before marker 0xd9\n",
          "output_type": "stream"
        },
        {
          "name": "stdout",
          "text": "92/93 [============================>.] - ETA: 0s - loss: -0.6754 - accuracy: 0.7672 - dice_metric: 0.7220",
          "output_type": "stream"
        },
        {
          "name": "stderr",
          "text": "Corrupt JPEG data: premature end of data segment\nCorrupt JPEG data: 240 extraneous bytes before marker 0xd9\n",
          "output_type": "stream"
        },
        {
          "name": "stdout",
          "text": "93/93 [==============================] - 26s 191ms/step - loss: -0.6752 - accuracy: 0.7672 - dice_metric: 0.7217 - val_loss: -0.6620 - val_accuracy: 0.6768 - val_dice_metric: 0.6677\nEpoch 3/100\n",
          "output_type": "stream"
        },
        {
          "name": "stderr",
          "text": "Corrupt JPEG data: premature end of data segment\nCorrupt JPEG data: 240 extraneous bytes before marker 0xd9\n",
          "output_type": "stream"
        },
        {
          "name": "stdout",
          "text": "92/93 [============================>.] - ETA: 0s - loss: -0.6941 - accuracy: 0.7830 - dice_metric: 0.7409",
          "output_type": "stream"
        },
        {
          "name": "stderr",
          "text": "Corrupt JPEG data: premature end of data segment\nCorrupt JPEG data: 240 extraneous bytes before marker 0xd9\n",
          "output_type": "stream"
        },
        {
          "name": "stdout",
          "text": "93/93 [==============================] - 26s 186ms/step - loss: -0.6940 - accuracy: 0.7830 - dice_metric: 0.7407 - val_loss: -0.7031 - val_accuracy: 0.7368 - val_dice_metric: 0.7064\nEpoch 4/100\n",
          "output_type": "stream"
        },
        {
          "name": "stderr",
          "text": "Corrupt JPEG data: premature end of data segment\nCorrupt JPEG data: 240 extraneous bytes before marker 0xd9\n",
          "output_type": "stream"
        },
        {
          "name": "stdout",
          "text": "92/93 [============================>.] - ETA: 0s - loss: -0.7028 - accuracy: 0.7906 - dice_metric: 0.7497",
          "output_type": "stream"
        },
        {
          "name": "stderr",
          "text": "Corrupt JPEG data: premature end of data segment\nCorrupt JPEG data: 240 extraneous bytes before marker 0xd9\n",
          "output_type": "stream"
        },
        {
          "name": "stdout",
          "text": "93/93 [==============================] - 26s 186ms/step - loss: -0.7027 - accuracy: 0.7906 - dice_metric: 0.7495 - val_loss: -0.6989 - val_accuracy: 0.7305 - val_dice_metric: 0.7029\nEpoch 5/100\n",
          "output_type": "stream"
        },
        {
          "name": "stderr",
          "text": "Corrupt JPEG data: premature end of data segment\nCorrupt JPEG data: 240 extraneous bytes before marker 0xd9\n",
          "output_type": "stream"
        },
        {
          "name": "stdout",
          "text": "92/93 [============================>.] - ETA: 0s - loss: -0.7147 - accuracy: 0.7968 - dice_metric: 0.7603",
          "output_type": "stream"
        },
        {
          "name": "stderr",
          "text": "Corrupt JPEG data: premature end of data segment\nCorrupt JPEG data: 240 extraneous bytes before marker 0xd9\n",
          "output_type": "stream"
        },
        {
          "name": "stdout",
          "text": "93/93 [==============================] - 27s 186ms/step - loss: -0.7147 - accuracy: 0.7968 - dice_metric: 0.7602 - val_loss: -0.7162 - val_accuracy: 0.7706 - val_dice_metric: 0.7234\nEpoch 6/100\n",
          "output_type": "stream"
        },
        {
          "name": "stderr",
          "text": "Corrupt JPEG data: premature end of data segment\nCorrupt JPEG data: 240 extraneous bytes before marker 0xd9\n",
          "output_type": "stream"
        },
        {
          "name": "stdout",
          "text": "92/93 [============================>.] - ETA: 0s - loss: -0.7227 - accuracy: 0.7999 - dice_metric: 0.7666",
          "output_type": "stream"
        },
        {
          "name": "stderr",
          "text": "Corrupt JPEG data: premature end of data segment\nCorrupt JPEG data: 240 extraneous bytes before marker 0xd9\n",
          "output_type": "stream"
        },
        {
          "name": "stdout",
          "text": "93/93 [==============================] - 26s 183ms/step - loss: -0.7227 - accuracy: 0.7999 - dice_metric: 0.7665 - val_loss: -0.7283 - val_accuracy: 0.7722 - val_dice_metric: 0.7400\nEpoch 7/100\n",
          "output_type": "stream"
        },
        {
          "name": "stderr",
          "text": "Corrupt JPEG data: premature end of data segment\nCorrupt JPEG data: 240 extraneous bytes before marker 0xd9\n",
          "output_type": "stream"
        },
        {
          "name": "stdout",
          "text": "92/93 [============================>.] - ETA: 0s - loss: -0.7242 - accuracy: 0.7991 - dice_metric: 0.7667",
          "output_type": "stream"
        },
        {
          "name": "stderr",
          "text": "Corrupt JPEG data: premature end of data segment\nCorrupt JPEG data: 240 extraneous bytes before marker 0xd9\n",
          "output_type": "stream"
        },
        {
          "name": "stdout",
          "text": "93/93 [==============================] - 26s 186ms/step - loss: -0.7242 - accuracy: 0.7991 - dice_metric: 0.7667 - val_loss: -0.7204 - val_accuracy: 0.7617 - val_dice_metric: 0.7308\nEpoch 8/100\n",
          "output_type": "stream"
        },
        {
          "name": "stderr",
          "text": "Corrupt JPEG data: premature end of data segment\nCorrupt JPEG data: 240 extraneous bytes before marker 0xd9\n",
          "output_type": "stream"
        },
        {
          "name": "stdout",
          "text": "92/93 [============================>.] - ETA: 0s - loss: -0.7243 - accuracy: 0.7976 - dice_metric: 0.7656",
          "output_type": "stream"
        },
        {
          "name": "stderr",
          "text": "Corrupt JPEG data: premature end of data segment\nCorrupt JPEG data: 240 extraneous bytes before marker 0xd9\n",
          "output_type": "stream"
        },
        {
          "name": "stdout",
          "text": "93/93 [==============================] - 26s 187ms/step - loss: -0.7244 - accuracy: 0.7977 - dice_metric: 0.7657 - val_loss: -0.7299 - val_accuracy: 0.7719 - val_dice_metric: 0.7366\nEpoch 9/100\n",
          "output_type": "stream"
        },
        {
          "name": "stderr",
          "text": "Corrupt JPEG data: premature end of data segment\nCorrupt JPEG data: 240 extraneous bytes before marker 0xd9\n",
          "output_type": "stream"
        },
        {
          "name": "stdout",
          "text": "92/93 [============================>.] - ETA: 0s - loss: -0.7331 - accuracy: 0.8054 - dice_metric: 0.7726",
          "output_type": "stream"
        },
        {
          "name": "stderr",
          "text": "Corrupt JPEG data: premature end of data segment\nCorrupt JPEG data: 240 extraneous bytes before marker 0xd9\n",
          "output_type": "stream"
        },
        {
          "name": "stdout",
          "text": "93/93 [==============================] - 26s 185ms/step - loss: -0.7331 - accuracy: 0.8054 - dice_metric: 0.7724 - val_loss: -0.7306 - val_accuracy: 0.7639 - val_dice_metric: 0.7333\nEpoch 10/100\n",
          "output_type": "stream"
        },
        {
          "name": "stderr",
          "text": "Corrupt JPEG data: premature end of data segment\nCorrupt JPEG data: 240 extraneous bytes before marker 0xd9\n",
          "output_type": "stream"
        },
        {
          "name": "stdout",
          "text": "92/93 [============================>.] - ETA: 0s - loss: -0.7450 - accuracy: 0.8149 - dice_metric: 0.7820",
          "output_type": "stream"
        },
        {
          "name": "stderr",
          "text": "Corrupt JPEG data: premature end of data segment\nCorrupt JPEG data: 240 extraneous bytes before marker 0xd9\n",
          "output_type": "stream"
        },
        {
          "name": "stdout",
          "text": "93/93 [==============================] - 26s 187ms/step - loss: -0.7450 - accuracy: 0.8150 - dice_metric: 0.7819 - val_loss: -0.7421 - val_accuracy: 0.7727 - val_dice_metric: 0.7436\nEpoch 11/100\n",
          "output_type": "stream"
        },
        {
          "name": "stderr",
          "text": "Corrupt JPEG data: premature end of data segment\nCorrupt JPEG data: 240 extraneous bytes before marker 0xd9\n",
          "output_type": "stream"
        },
        {
          "name": "stdout",
          "text": "92/93 [============================>.] - ETA: 0s - loss: -0.7526 - accuracy: 0.8230 - dice_metric: 0.7890",
          "output_type": "stream"
        },
        {
          "name": "stderr",
          "text": "Corrupt JPEG data: premature end of data segment\nCorrupt JPEG data: 240 extraneous bytes before marker 0xd9\n",
          "output_type": "stream"
        },
        {
          "name": "stdout",
          "text": "93/93 [==============================] - 26s 183ms/step - loss: -0.7526 - accuracy: 0.8231 - dice_metric: 0.7890 - val_loss: -0.7584 - val_accuracy: 0.7856 - val_dice_metric: 0.7572\nEpoch 12/100\n",
          "output_type": "stream"
        },
        {
          "name": "stderr",
          "text": "Corrupt JPEG data: premature end of data segment\nCorrupt JPEG data: 240 extraneous bytes before marker 0xd9\n",
          "output_type": "stream"
        },
        {
          "name": "stdout",
          "text": "92/93 [============================>.] - ETA: 0s - loss: -0.7599 - accuracy: 0.8298 - dice_metric: 0.7957",
          "output_type": "stream"
        },
        {
          "name": "stderr",
          "text": "Corrupt JPEG data: premature end of data segment\nCorrupt JPEG data: 240 extraneous bytes before marker 0xd9\n",
          "output_type": "stream"
        },
        {
          "name": "stdout",
          "text": "93/93 [==============================] - 26s 186ms/step - loss: -0.7599 - accuracy: 0.8299 - dice_metric: 0.7957 - val_loss: -0.7636 - val_accuracy: 0.7916 - val_dice_metric: 0.7629\nEpoch 13/100\n",
          "output_type": "stream"
        },
        {
          "name": "stderr",
          "text": "Corrupt JPEG data: premature end of data segment\nCorrupt JPEG data: 240 extraneous bytes before marker 0xd9\n",
          "output_type": "stream"
        },
        {
          "name": "stdout",
          "text": "92/93 [============================>.] - ETA: 0s - loss: -0.7674 - accuracy: 0.8368 - dice_metric: 0.8029",
          "output_type": "stream"
        },
        {
          "name": "stderr",
          "text": "Corrupt JPEG data: premature end of data segment\nCorrupt JPEG data: 240 extraneous bytes before marker 0xd9\n",
          "output_type": "stream"
        },
        {
          "name": "stdout",
          "text": "93/93 [==============================] - 26s 190ms/step - loss: -0.7674 - accuracy: 0.8368 - dice_metric: 0.8029 - val_loss: -0.7656 - val_accuracy: 0.7968 - val_dice_metric: 0.7657\nEpoch 14/100\n",
          "output_type": "stream"
        },
        {
          "name": "stderr",
          "text": "Corrupt JPEG data: premature end of data segment\nCorrupt JPEG data: 240 extraneous bytes before marker 0xd9\n",
          "output_type": "stream"
        },
        {
          "name": "stdout",
          "text": "92/93 [============================>.] - ETA: 0s - loss: -0.7734 - accuracy: 0.8419 - dice_metric: 0.8082",
          "output_type": "stream"
        },
        {
          "name": "stderr",
          "text": "Corrupt JPEG data: premature end of data segment\nCorrupt JPEG data: 240 extraneous bytes before marker 0xd9\n",
          "output_type": "stream"
        },
        {
          "name": "stdout",
          "text": "93/93 [==============================] - 26s 187ms/step - loss: -0.7734 - accuracy: 0.8420 - dice_metric: 0.8083 - val_loss: -0.7677 - val_accuracy: 0.8013 - val_dice_metric: 0.7689\nEpoch 15/100\n",
          "output_type": "stream"
        },
        {
          "name": "stderr",
          "text": "Corrupt JPEG data: premature end of data segment\nCorrupt JPEG data: 240 extraneous bytes before marker 0xd9\n",
          "output_type": "stream"
        },
        {
          "name": "stdout",
          "text": "92/93 [============================>.] - ETA: 0s - loss: -0.7790 - accuracy: 0.8469 - dice_metric: 0.8134",
          "output_type": "stream"
        },
        {
          "name": "stderr",
          "text": "Corrupt JPEG data: premature end of data segment\nCorrupt JPEG data: 240 extraneous bytes before marker 0xd9\n",
          "output_type": "stream"
        },
        {
          "name": "stdout",
          "text": "93/93 [==============================] - 26s 186ms/step - loss: -0.7791 - accuracy: 0.8470 - dice_metric: 0.8135 - val_loss: -0.7718 - val_accuracy: 0.8055 - val_dice_metric: 0.7731\nEpoch 16/100\n",
          "output_type": "stream"
        },
        {
          "name": "stderr",
          "text": "Corrupt JPEG data: premature end of data segment\nCorrupt JPEG data: 240 extraneous bytes before marker 0xd9\n",
          "output_type": "stream"
        },
        {
          "name": "stdout",
          "text": "92/93 [============================>.] - ETA: 0s - loss: -0.7840 - accuracy: 0.8503 - dice_metric: 0.8173",
          "output_type": "stream"
        },
        {
          "name": "stderr",
          "text": "Corrupt JPEG data: premature end of data segment\nCorrupt JPEG data: 240 extraneous bytes before marker 0xd9\n",
          "output_type": "stream"
        },
        {
          "name": "stdout",
          "text": "93/93 [==============================] - 26s 182ms/step - loss: -0.7841 - accuracy: 0.8504 - dice_metric: 0.8175 - val_loss: -0.7743 - val_accuracy: 0.8080 - val_dice_metric: 0.7755\nEpoch 17/100\n",
          "output_type": "stream"
        },
        {
          "name": "stderr",
          "text": "Corrupt JPEG data: premature end of data segment\nCorrupt JPEG data: 240 extraneous bytes before marker 0xd9\n",
          "output_type": "stream"
        },
        {
          "name": "stdout",
          "text": "92/93 [============================>.] - ETA: 0s - loss: -0.7879 - accuracy: 0.8531 - dice_metric: 0.8204",
          "output_type": "stream"
        },
        {
          "name": "stderr",
          "text": "Corrupt JPEG data: premature end of data segment\nCorrupt JPEG data: 240 extraneous bytes before marker 0xd9\n",
          "output_type": "stream"
        },
        {
          "name": "stdout",
          "text": "93/93 [==============================] - 26s 184ms/step - loss: -0.7880 - accuracy: 0.8532 - dice_metric: 0.8206 - val_loss: -0.7750 - val_accuracy: 0.8078 - val_dice_metric: 0.7760\nEpoch 18/100\n",
          "output_type": "stream"
        },
        {
          "name": "stderr",
          "text": "Corrupt JPEG data: premature end of data segment\nCorrupt JPEG data: 240 extraneous bytes before marker 0xd9\n",
          "output_type": "stream"
        },
        {
          "name": "stdout",
          "text": "92/93 [============================>.] - ETA: 0s - loss: -0.7917 - accuracy: 0.8558 - dice_metric: 0.8233",
          "output_type": "stream"
        },
        {
          "name": "stderr",
          "text": "Corrupt JPEG data: premature end of data segment\nCorrupt JPEG data: 240 extraneous bytes before marker 0xd9\n",
          "output_type": "stream"
        },
        {
          "name": "stdout",
          "text": "93/93 [==============================] - 26s 185ms/step - loss: -0.7918 - accuracy: 0.8558 - dice_metric: 0.8234 - val_loss: -0.7764 - val_accuracy: 0.8093 - val_dice_metric: 0.7772\nEpoch 19/100\n",
          "output_type": "stream"
        },
        {
          "name": "stderr",
          "text": "Corrupt JPEG data: premature end of data segment\nCorrupt JPEG data: 240 extraneous bytes before marker 0xd9\n",
          "output_type": "stream"
        },
        {
          "name": "stdout",
          "text": "92/93 [============================>.] - ETA: 0s - loss: -0.7954 - accuracy: 0.8582 - dice_metric: 0.8259",
          "output_type": "stream"
        },
        {
          "name": "stderr",
          "text": "Corrupt JPEG data: premature end of data segment\nCorrupt JPEG data: 240 extraneous bytes before marker 0xd9\n",
          "output_type": "stream"
        },
        {
          "name": "stdout",
          "text": "93/93 [==============================] - 26s 187ms/step - loss: -0.7954 - accuracy: 0.8583 - dice_metric: 0.8261 - val_loss: -0.7799 - val_accuracy: 0.8138 - val_dice_metric: 0.7802\nEpoch 20/100\n",
          "output_type": "stream"
        },
        {
          "name": "stderr",
          "text": "Corrupt JPEG data: premature end of data segment\nCorrupt JPEG data: 240 extraneous bytes before marker 0xd9\n",
          "output_type": "stream"
        },
        {
          "name": "stdout",
          "text": "92/93 [============================>.] - ETA: 0s - loss: -0.7989 - accuracy: 0.8607 - dice_metric: 0.8287",
          "output_type": "stream"
        },
        {
          "name": "stderr",
          "text": "Corrupt JPEG data: premature end of data segment\nCorrupt JPEG data: 240 extraneous bytes before marker 0xd9\n",
          "output_type": "stream"
        },
        {
          "name": "stdout",
          "text": "93/93 [==============================] - 26s 186ms/step - loss: -0.7989 - accuracy: 0.8607 - dice_metric: 0.8289 - val_loss: -0.7826 - val_accuracy: 0.8176 - val_dice_metric: 0.7830\nEpoch 21/100\n",
          "output_type": "stream"
        },
        {
          "name": "stderr",
          "text": "Corrupt JPEG data: premature end of data segment\nCorrupt JPEG data: 240 extraneous bytes before marker 0xd9\n",
          "output_type": "stream"
        },
        {
          "name": "stdout",
          "text": "92/93 [============================>.] - ETA: 0s - loss: -0.8025 - accuracy: 0.8632 - dice_metric: 0.8316",
          "output_type": "stream"
        },
        {
          "name": "stderr",
          "text": "Corrupt JPEG data: premature end of data segment\nCorrupt JPEG data: 240 extraneous bytes before marker 0xd9\n",
          "output_type": "stream"
        },
        {
          "name": "stdout",
          "text": "93/93 [==============================] - 26s 182ms/step - loss: -0.8025 - accuracy: 0.8633 - dice_metric: 0.8317 - val_loss: -0.7840 - val_accuracy: 0.8201 - val_dice_metric: 0.7849\nEpoch 22/100\n",
          "output_type": "stream"
        },
        {
          "name": "stderr",
          "text": "Corrupt JPEG data: premature end of data segment\nCorrupt JPEG data: 240 extraneous bytes before marker 0xd9\n",
          "output_type": "stream"
        },
        {
          "name": "stdout",
          "text": "92/93 [============================>.] - ETA: 0s - loss: -0.8055 - accuracy: 0.8652 - dice_metric: 0.8339",
          "output_type": "stream"
        },
        {
          "name": "stderr",
          "text": "Corrupt JPEG data: premature end of data segment\nCorrupt JPEG data: 240 extraneous bytes before marker 0xd9\n",
          "output_type": "stream"
        },
        {
          "name": "stdout",
          "text": "93/93 [==============================] - 26s 183ms/step - loss: -0.8056 - accuracy: 0.8653 - dice_metric: 0.8341 - val_loss: -0.7847 - val_accuracy: 0.8213 - val_dice_metric: 0.7860\nEpoch 23/100\n",
          "output_type": "stream"
        },
        {
          "name": "stderr",
          "text": "Corrupt JPEG data: premature end of data segment\nCorrupt JPEG data: 240 extraneous bytes before marker 0xd9\n",
          "output_type": "stream"
        },
        {
          "name": "stdout",
          "text": "92/93 [============================>.] - ETA: 0s - loss: -0.8080 - accuracy: 0.8669 - dice_metric: 0.8358",
          "output_type": "stream"
        },
        {
          "name": "stderr",
          "text": "Corrupt JPEG data: premature end of data segment\nCorrupt JPEG data: 240 extraneous bytes before marker 0xd9\n",
          "output_type": "stream"
        },
        {
          "name": "stdout",
          "text": "93/93 [==============================] - 26s 186ms/step - loss: -0.8080 - accuracy: 0.8670 - dice_metric: 0.8360 - val_loss: -0.7839 - val_accuracy: 0.8230 - val_dice_metric: 0.7860\nEpoch 24/100\n",
          "output_type": "stream"
        },
        {
          "name": "stderr",
          "text": "Corrupt JPEG data: premature end of data segment\nCorrupt JPEG data: 240 extraneous bytes before marker 0xd9\n",
          "output_type": "stream"
        },
        {
          "name": "stdout",
          "text": "92/93 [============================>.] - ETA: 0s - loss: -0.8104 - accuracy: 0.8685 - dice_metric: 0.8376",
          "output_type": "stream"
        },
        {
          "name": "stderr",
          "text": "Corrupt JPEG data: premature end of data segment\nCorrupt JPEG data: 240 extraneous bytes before marker 0xd9\n",
          "output_type": "stream"
        },
        {
          "name": "stdout",
          "text": "93/93 [==============================] - 26s 188ms/step - loss: -0.8105 - accuracy: 0.8686 - dice_metric: 0.8378 - val_loss: -0.7849 - val_accuracy: 0.8246 - val_dice_metric: 0.7872\nEpoch 25/100\n",
          "output_type": "stream"
        },
        {
          "name": "stderr",
          "text": "Corrupt JPEG data: premature end of data segment\nCorrupt JPEG data: 240 extraneous bytes before marker 0xd9\n",
          "output_type": "stream"
        },
        {
          "name": "stdout",
          "text": "92/93 [============================>.] - ETA: 0s - loss: -0.8123 - accuracy: 0.8696 - dice_metric: 0.8390",
          "output_type": "stream"
        },
        {
          "name": "stderr",
          "text": "Corrupt JPEG data: premature end of data segment\nCorrupt JPEG data: 240 extraneous bytes before marker 0xd9\n",
          "output_type": "stream"
        },
        {
          "name": "stdout",
          "text": "93/93 [==============================] - 26s 192ms/step - loss: -0.8124 - accuracy: 0.8697 - dice_metric: 0.8391 - val_loss: -0.7836 - val_accuracy: 0.8243 - val_dice_metric: 0.7858\nEpoch 26/100\n",
          "output_type": "stream"
        },
        {
          "name": "stderr",
          "text": "Corrupt JPEG data: premature end of data segment\nCorrupt JPEG data: 240 extraneous bytes before marker 0xd9\n",
          "output_type": "stream"
        },
        {
          "name": "stdout",
          "text": "92/93 [============================>.] - ETA: 0s - loss: -0.8143 - accuracy: 0.8708 - dice_metric: 0.8403",
          "output_type": "stream"
        },
        {
          "name": "stderr",
          "text": "Corrupt JPEG data: premature end of data segment\nCorrupt JPEG data: 240 extraneous bytes before marker 0xd9\n",
          "output_type": "stream"
        },
        {
          "name": "stdout",
          "text": "93/93 [==============================] - 26s 184ms/step - loss: -0.8143 - accuracy: 0.8708 - dice_metric: 0.8404 - val_loss: -0.7829 - val_accuracy: 0.8255 - val_dice_metric: 0.7853\nEpoch 27/100\n",
          "output_type": "stream"
        },
        {
          "name": "stderr",
          "text": "Corrupt JPEG data: premature end of data segment\nCorrupt JPEG data: 240 extraneous bytes before marker 0xd9\n",
          "output_type": "stream"
        },
        {
          "name": "stdout",
          "text": "92/93 [============================>.] - ETA: 0s - loss: -0.8171 - accuracy: 0.8726 - dice_metric: 0.8424",
          "output_type": "stream"
        },
        {
          "name": "stderr",
          "text": "Corrupt JPEG data: premature end of data segment\nCorrupt JPEG data: 240 extraneous bytes before marker 0xd9\n",
          "output_type": "stream"
        },
        {
          "name": "stdout",
          "text": "93/93 [==============================] - 26s 180ms/step - loss: -0.8171 - accuracy: 0.8726 - dice_metric: 0.8425 - val_loss: -0.7836 - val_accuracy: 0.8264 - val_dice_metric: 0.7860\nEpoch 28/100\n",
          "output_type": "stream"
        },
        {
          "name": "stderr",
          "text": "Corrupt JPEG data: premature end of data segment\nCorrupt JPEG data: 240 extraneous bytes before marker 0xd9\n",
          "output_type": "stream"
        },
        {
          "name": "stdout",
          "text": "92/93 [============================>.] - ETA: 0s - loss: -0.8191 - accuracy: 0.8737 - dice_metric: 0.8437",
          "output_type": "stream"
        },
        {
          "name": "stderr",
          "text": "Corrupt JPEG data: premature end of data segment\nCorrupt JPEG data: 240 extraneous bytes before marker 0xd9\n",
          "output_type": "stream"
        },
        {
          "name": "stdout",
          "text": "93/93 [==============================] - 26s 186ms/step - loss: -0.8191 - accuracy: 0.8737 - dice_metric: 0.8438 - val_loss: -0.7849 - val_accuracy: 0.8287 - val_dice_metric: 0.7878\nEpoch 29/100\n",
          "output_type": "stream"
        },
        {
          "name": "stderr",
          "text": "Corrupt JPEG data: premature end of data segment\nCorrupt JPEG data: 240 extraneous bytes before marker 0xd9\n",
          "output_type": "stream"
        },
        {
          "name": "stdout",
          "text": "92/93 [============================>.] - ETA: 0s - loss: -0.8208 - accuracy: 0.8747 - dice_metric: 0.8449",
          "output_type": "stream"
        },
        {
          "name": "stderr",
          "text": "Corrupt JPEG data: premature end of data segment\nCorrupt JPEG data: 240 extraneous bytes before marker 0xd9\n",
          "output_type": "stream"
        },
        {
          "name": "stdout",
          "text": "93/93 [==============================] - 25s 180ms/step - loss: -0.8209 - accuracy: 0.8747 - dice_metric: 0.8450 - val_loss: -0.7892 - val_accuracy: 0.8326 - val_dice_metric: 0.7919\nEpoch 30/100\n",
          "output_type": "stream"
        },
        {
          "name": "stderr",
          "text": "Corrupt JPEG data: premature end of data segment\nCorrupt JPEG data: 240 extraneous bytes before marker 0xd9\n",
          "output_type": "stream"
        },
        {
          "name": "stdout",
          "text": "92/93 [============================>.] - ETA: 0s - loss: -0.8236 - accuracy: 0.8767 - dice_metric: 0.8473",
          "output_type": "stream"
        },
        {
          "name": "stderr",
          "text": "Corrupt JPEG data: premature end of data segment\nCorrupt JPEG data: 240 extraneous bytes before marker 0xd9\n",
          "output_type": "stream"
        },
        {
          "name": "stdout",
          "text": "93/93 [==============================] - 26s 190ms/step - loss: -0.8237 - accuracy: 0.8768 - dice_metric: 0.8475 - val_loss: -0.7909 - val_accuracy: 0.8336 - val_dice_metric: 0.7937\nEpoch 31/100\n",
          "output_type": "stream"
        },
        {
          "name": "stderr",
          "text": "Corrupt JPEG data: premature end of data segment\nCorrupt JPEG data: 240 extraneous bytes before marker 0xd9\n",
          "output_type": "stream"
        },
        {
          "name": "stdout",
          "text": "92/93 [============================>.] - ETA: 0s - loss: -0.8257 - accuracy: 0.8780 - dice_metric: 0.8489",
          "output_type": "stream"
        },
        {
          "name": "stderr",
          "text": "Corrupt JPEG data: premature end of data segment\nCorrupt JPEG data: 240 extraneous bytes before marker 0xd9\n",
          "output_type": "stream"
        },
        {
          "name": "stdout",
          "text": "93/93 [==============================] - 26s 184ms/step - loss: -0.8257 - accuracy: 0.8781 - dice_metric: 0.8491 - val_loss: -0.7907 - val_accuracy: 0.8333 - val_dice_metric: 0.7933\nEpoch 32/100\n",
          "output_type": "stream"
        },
        {
          "name": "stderr",
          "text": "Corrupt JPEG data: premature end of data segment\nCorrupt JPEG data: 240 extraneous bytes before marker 0xd9\n",
          "output_type": "stream"
        },
        {
          "name": "stdout",
          "text": "92/93 [============================>.] - ETA: 0s - loss: -0.8276 - accuracy: 0.8792 - dice_metric: 0.8504",
          "output_type": "stream"
        },
        {
          "name": "stderr",
          "text": "Corrupt JPEG data: premature end of data segment\nCorrupt JPEG data: 240 extraneous bytes before marker 0xd9\n",
          "output_type": "stream"
        },
        {
          "name": "stdout",
          "text": "93/93 [==============================] - 26s 181ms/step - loss: -0.8277 - accuracy: 0.8793 - dice_metric: 0.8506 - val_loss: -0.7914 - val_accuracy: 0.8336 - val_dice_metric: 0.7937\nEpoch 33/100\n",
          "output_type": "stream"
        },
        {
          "name": "stderr",
          "text": "Corrupt JPEG data: premature end of data segment\nCorrupt JPEG data: 240 extraneous bytes before marker 0xd9\n",
          "output_type": "stream"
        },
        {
          "name": "stdout",
          "text": "92/93 [============================>.] - ETA: 0s - loss: -0.8295 - accuracy: 0.8803 - dice_metric: 0.8518",
          "output_type": "stream"
        },
        {
          "name": "stderr",
          "text": "Corrupt JPEG data: premature end of data segment\nCorrupt JPEG data: 240 extraneous bytes before marker 0xd9\n",
          "output_type": "stream"
        },
        {
          "name": "stdout",
          "text": "93/93 [==============================] - 26s 185ms/step - loss: -0.8296 - accuracy: 0.8804 - dice_metric: 0.8520 - val_loss: -0.7901 - val_accuracy: 0.8328 - val_dice_metric: 0.7921\nEpoch 34/100\n",
          "output_type": "stream"
        },
        {
          "name": "stderr",
          "text": "Corrupt JPEG data: premature end of data segment\nCorrupt JPEG data: 240 extraneous bytes before marker 0xd9\n",
          "output_type": "stream"
        },
        {
          "name": "stdout",
          "text": "92/93 [============================>.] - ETA: 0s - loss: -0.8313 - accuracy: 0.8814 - dice_metric: 0.8533",
          "output_type": "stream"
        },
        {
          "name": "stderr",
          "text": "Corrupt JPEG data: premature end of data segment\nCorrupt JPEG data: 240 extraneous bytes before marker 0xd9\n",
          "output_type": "stream"
        },
        {
          "name": "stdout",
          "text": "93/93 [==============================] - 25s 181ms/step - loss: -0.8314 - accuracy: 0.8815 - dice_metric: 0.8534 - val_loss: -0.7891 - val_accuracy: 0.8324 - val_dice_metric: 0.7909\nEpoch 35/100\n",
          "output_type": "stream"
        },
        {
          "name": "stderr",
          "text": "Corrupt JPEG data: premature end of data segment\nCorrupt JPEG data: 240 extraneous bytes before marker 0xd9\n",
          "output_type": "stream"
        },
        {
          "name": "stdout",
          "text": "92/93 [============================>.] - ETA: 0s - loss: -0.8328 - accuracy: 0.8822 - dice_metric: 0.8543",
          "output_type": "stream"
        },
        {
          "name": "stderr",
          "text": "Corrupt JPEG data: premature end of data segment\nCorrupt JPEG data: 240 extraneous bytes before marker 0xd9\n",
          "output_type": "stream"
        },
        {
          "name": "stdout",
          "text": "93/93 [==============================] - 26s 192ms/step - loss: -0.8328 - accuracy: 0.8823 - dice_metric: 0.8545 - val_loss: -0.7897 - val_accuracy: 0.8328 - val_dice_metric: 0.7910\nEpoch 36/100\n",
          "output_type": "stream"
        },
        {
          "name": "stderr",
          "text": "Corrupt JPEG data: premature end of data segment\nCorrupt JPEG data: 240 extraneous bytes before marker 0xd9\n",
          "output_type": "stream"
        },
        {
          "name": "stdout",
          "text": "92/93 [============================>.] - ETA: 0s - loss: -0.8342 - accuracy: 0.8830 - dice_metric: 0.8553",
          "output_type": "stream"
        },
        {
          "name": "stderr",
          "text": "Corrupt JPEG data: premature end of data segment\nCorrupt JPEG data: 240 extraneous bytes before marker 0xd9\n",
          "output_type": "stream"
        },
        {
          "name": "stdout",
          "text": "93/93 [==============================] - 26s 188ms/step - loss: -0.8342 - accuracy: 0.8831 - dice_metric: 0.8554 - val_loss: -0.7899 - val_accuracy: 0.8330 - val_dice_metric: 0.7911\nEpoch 37/100\n",
          "output_type": "stream"
        },
        {
          "name": "stderr",
          "text": "Corrupt JPEG data: premature end of data segment\nCorrupt JPEG data: 240 extraneous bytes before marker 0xd9\n",
          "output_type": "stream"
        },
        {
          "name": "stdout",
          "text": "92/93 [============================>.] - ETA: 0s - loss: -0.8355 - accuracy: 0.8838 - dice_metric: 0.8563",
          "output_type": "stream"
        },
        {
          "name": "stderr",
          "text": "Corrupt JPEG data: premature end of data segment\nCorrupt JPEG data: 240 extraneous bytes before marker 0xd9\n",
          "output_type": "stream"
        },
        {
          "name": "stdout",
          "text": "93/93 [==============================] - 26s 182ms/step - loss: -0.8356 - accuracy: 0.8839 - dice_metric: 0.8565 - val_loss: -0.7902 - val_accuracy: 0.8324 - val_dice_metric: 0.7911\nEpoch 38/100\n",
          "output_type": "stream"
        },
        {
          "name": "stderr",
          "text": "Corrupt JPEG data: premature end of data segment\nCorrupt JPEG data: 240 extraneous bytes before marker 0xd9\n",
          "output_type": "stream"
        },
        {
          "name": "stdout",
          "text": "92/93 [============================>.] - ETA: 0s - loss: -0.8370 - accuracy: 0.8847 - dice_metric: 0.8575",
          "output_type": "stream"
        },
        {
          "name": "stderr",
          "text": "Corrupt JPEG data: premature end of data segment\nCorrupt JPEG data: 240 extraneous bytes before marker 0xd9\n",
          "output_type": "stream"
        },
        {
          "name": "stdout",
          "text": "93/93 [==============================] - 26s 186ms/step - loss: -0.8370 - accuracy: 0.8848 - dice_metric: 0.8576 - val_loss: -0.7912 - val_accuracy: 0.8335 - val_dice_metric: 0.7919\nEpoch 39/100\n",
          "output_type": "stream"
        },
        {
          "name": "stderr",
          "text": "Corrupt JPEG data: premature end of data segment\nCorrupt JPEG data: 240 extraneous bytes before marker 0xd9\n",
          "output_type": "stream"
        },
        {
          "name": "stdout",
          "text": "92/93 [============================>.] - ETA: 0s - loss: -0.8381 - accuracy: 0.8852 - dice_metric: 0.8582",
          "output_type": "stream"
        },
        {
          "name": "stderr",
          "text": "Corrupt JPEG data: premature end of data segment\nCorrupt JPEG data: 240 extraneous bytes before marker 0xd9\n",
          "output_type": "stream"
        },
        {
          "name": "stdout",
          "text": "93/93 [==============================] - 26s 183ms/step - loss: -0.8381 - accuracy: 0.8852 - dice_metric: 0.8583 - val_loss: -0.7915 - val_accuracy: 0.8342 - val_dice_metric: 0.7924\nEpoch 40/100\n",
          "output_type": "stream"
        },
        {
          "name": "stderr",
          "text": "Corrupt JPEG data: premature end of data segment\nCorrupt JPEG data: 240 extraneous bytes before marker 0xd9\n",
          "output_type": "stream"
        },
        {
          "name": "stdout",
          "text": "92/93 [============================>.] - ETA: 0s - loss: -0.8389 - accuracy: 0.8854 - dice_metric: 0.8585",
          "output_type": "stream"
        },
        {
          "name": "stderr",
          "text": "Corrupt JPEG data: premature end of data segment\nCorrupt JPEG data: 240 extraneous bytes before marker 0xd9\n",
          "output_type": "stream"
        },
        {
          "name": "stdout",
          "text": "93/93 [==============================] - 26s 188ms/step - loss: -0.8389 - accuracy: 0.8855 - dice_metric: 0.8586 - val_loss: -0.7914 - val_accuracy: 0.8330 - val_dice_metric: 0.7920\nEpoch 41/100\n",
          "output_type": "stream"
        },
        {
          "name": "stderr",
          "text": "Corrupt JPEG data: premature end of data segment\nCorrupt JPEG data: 240 extraneous bytes before marker 0xd9\n",
          "output_type": "stream"
        },
        {
          "name": "stdout",
          "text": "92/93 [============================>.] - ETA: 0s - loss: -0.8400 - accuracy: 0.8860 - dice_metric: 0.8593",
          "output_type": "stream"
        },
        {
          "name": "stderr",
          "text": "Corrupt JPEG data: premature end of data segment\nCorrupt JPEG data: 240 extraneous bytes before marker 0xd9\n",
          "output_type": "stream"
        },
        {
          "name": "stdout",
          "text": "93/93 [==============================] - 26s 193ms/step - loss: -0.8400 - accuracy: 0.8861 - dice_metric: 0.8594 - val_loss: -0.7901 - val_accuracy: 0.8301 - val_dice_metric: 0.7903\nEpoch 42/100\n",
          "output_type": "stream"
        },
        {
          "name": "stderr",
          "text": "Corrupt JPEG data: premature end of data segment\nCorrupt JPEG data: 240 extraneous bytes before marker 0xd9\n",
          "output_type": "stream"
        },
        {
          "name": "stdout",
          "text": "92/93 [============================>.] - ETA: 0s - loss: -0.8420 - accuracy: 0.8873 - dice_metric: 0.8610",
          "output_type": "stream"
        },
        {
          "name": "stderr",
          "text": "Corrupt JPEG data: premature end of data segment\nCorrupt JPEG data: 240 extraneous bytes before marker 0xd9\n",
          "output_type": "stream"
        },
        {
          "name": "stdout",
          "text": "93/93 [==============================] - 26s 183ms/step - loss: -0.8420 - accuracy: 0.8874 - dice_metric: 0.8611 - val_loss: -0.7902 - val_accuracy: 0.8287 - val_dice_metric: 0.7899\nEpoch 43/100\n",
          "output_type": "stream"
        },
        {
          "name": "stderr",
          "text": "Corrupt JPEG data: premature end of data segment\nCorrupt JPEG data: 240 extraneous bytes before marker 0xd9\n",
          "output_type": "stream"
        },
        {
          "name": "stdout",
          "text": "92/93 [============================>.] - ETA: 0s - loss: -0.8439 - accuracy: 0.8886 - dice_metric: 0.8625",
          "output_type": "stream"
        },
        {
          "name": "stderr",
          "text": "Corrupt JPEG data: premature end of data segment\nCorrupt JPEG data: 240 extraneous bytes before marker 0xd9\n",
          "output_type": "stream"
        },
        {
          "name": "stdout",
          "text": "93/93 [==============================] - 26s 186ms/step - loss: -0.8440 - accuracy: 0.8886 - dice_metric: 0.8626 - val_loss: -0.7894 - val_accuracy: 0.8273 - val_dice_metric: 0.7888\nEpoch 44/100\n",
          "output_type": "stream"
        },
        {
          "name": "stderr",
          "text": "Corrupt JPEG data: premature end of data segment\nCorrupt JPEG data: 240 extraneous bytes before marker 0xd9\n",
          "output_type": "stream"
        },
        {
          "name": "stdout",
          "text": "92/93 [============================>.] - ETA: 0s - loss: -0.8460 - accuracy: 0.8900 - dice_metric: 0.8643",
          "output_type": "stream"
        },
        {
          "name": "stderr",
          "text": "Corrupt JPEG data: premature end of data segment\nCorrupt JPEG data: 240 extraneous bytes before marker 0xd9\n",
          "output_type": "stream"
        },
        {
          "name": "stdout",
          "text": "93/93 [==============================] - 26s 184ms/step - loss: -0.8460 - accuracy: 0.8901 - dice_metric: 0.8644 - val_loss: -0.7896 - val_accuracy: 0.8275 - val_dice_metric: 0.7890\nEpoch 45/100\n",
          "output_type": "stream"
        },
        {
          "name": "stderr",
          "text": "Corrupt JPEG data: premature end of data segment\nCorrupt JPEG data: 240 extraneous bytes before marker 0xd9\n",
          "output_type": "stream"
        },
        {
          "name": "stdout",
          "text": "92/93 [============================>.] - ETA: 0s - loss: -0.8479 - accuracy: 0.8914 - dice_metric: 0.8659",
          "output_type": "stream"
        },
        {
          "name": "stderr",
          "text": "Corrupt JPEG data: premature end of data segment\nCorrupt JPEG data: 240 extraneous bytes before marker 0xd9\n",
          "output_type": "stream"
        },
        {
          "name": "stdout",
          "text": "93/93 [==============================] - 26s 182ms/step - loss: -0.8480 - accuracy: 0.8915 - dice_metric: 0.8661 - val_loss: -0.7930 - val_accuracy: 0.8303 - val_dice_metric: 0.7920\nEpoch 46/100\n",
          "output_type": "stream"
        },
        {
          "name": "stderr",
          "text": "Corrupt JPEG data: premature end of data segment\nCorrupt JPEG data: 240 extraneous bytes before marker 0xd9\n",
          "output_type": "stream"
        },
        {
          "name": "stdout",
          "text": "92/93 [============================>.] - ETA: 0s - loss: -0.8497 - accuracy: 0.8927 - dice_metric: 0.8674",
          "output_type": "stream"
        },
        {
          "name": "stderr",
          "text": "Corrupt JPEG data: premature end of data segment\nCorrupt JPEG data: 240 extraneous bytes before marker 0xd9\n",
          "output_type": "stream"
        },
        {
          "name": "stdout",
          "text": "93/93 [==============================] - 26s 191ms/step - loss: -0.8497 - accuracy: 0.8928 - dice_metric: 0.8676 - val_loss: -0.7948 - val_accuracy: 0.8325 - val_dice_metric: 0.7936\nEpoch 47/100\n",
          "output_type": "stream"
        },
        {
          "name": "stderr",
          "text": "Corrupt JPEG data: premature end of data segment\nCorrupt JPEG data: 240 extraneous bytes before marker 0xd9\n",
          "output_type": "stream"
        },
        {
          "name": "stdout",
          "text": "92/93 [============================>.] - ETA: 0s - loss: -0.8514 - accuracy: 0.8940 - dice_metric: 0.8688",
          "output_type": "stream"
        },
        {
          "name": "stderr",
          "text": "Corrupt JPEG data: premature end of data segment\nCorrupt JPEG data: 240 extraneous bytes before marker 0xd9\n",
          "output_type": "stream"
        },
        {
          "name": "stdout",
          "text": "93/93 [==============================] - 25s 180ms/step - loss: -0.8514 - accuracy: 0.8940 - dice_metric: 0.8690 - val_loss: -0.7964 - val_accuracy: 0.8345 - val_dice_metric: 0.7953\nEpoch 48/100\n",
          "output_type": "stream"
        },
        {
          "name": "stderr",
          "text": "Corrupt JPEG data: premature end of data segment\nCorrupt JPEG data: 240 extraneous bytes before marker 0xd9\n",
          "output_type": "stream"
        },
        {
          "name": "stdout",
          "text": "92/93 [============================>.] - ETA: 0s - loss: -0.8530 - accuracy: 0.8952 - dice_metric: 0.8703",
          "output_type": "stream"
        },
        {
          "name": "stderr",
          "text": "Corrupt JPEG data: premature end of data segment\nCorrupt JPEG data: 240 extraneous bytes before marker 0xd9\n",
          "output_type": "stream"
        },
        {
          "name": "stdout",
          "text": "93/93 [==============================] - 26s 186ms/step - loss: -0.8531 - accuracy: 0.8952 - dice_metric: 0.8705 - val_loss: -0.7976 - val_accuracy: 0.8357 - val_dice_metric: 0.7964\nEpoch 49/100\n",
          "output_type": "stream"
        },
        {
          "name": "stderr",
          "text": "Corrupt JPEG data: premature end of data segment\nCorrupt JPEG data: 240 extraneous bytes before marker 0xd9\n",
          "output_type": "stream"
        },
        {
          "name": "stdout",
          "text": "92/93 [============================>.] - ETA: 0s - loss: -0.8546 - accuracy: 0.8962 - dice_metric: 0.8716",
          "output_type": "stream"
        },
        {
          "name": "stderr",
          "text": "Corrupt JPEG data: premature end of data segment\nCorrupt JPEG data: 240 extraneous bytes before marker 0xd9\n",
          "output_type": "stream"
        },
        {
          "name": "stdout",
          "text": "93/93 [==============================] - 27s 188ms/step - loss: -0.8546 - accuracy: 0.8963 - dice_metric: 0.8717 - val_loss: -0.7984 - val_accuracy: 0.8370 - val_dice_metric: 0.7971\nEpoch 50/100\n",
          "output_type": "stream"
        },
        {
          "name": "stderr",
          "text": "Corrupt JPEG data: premature end of data segment\nCorrupt JPEG data: 240 extraneous bytes before marker 0xd9\n",
          "output_type": "stream"
        },
        {
          "name": "stdout",
          "text": "92/93 [============================>.] - ETA: 0s - loss: -0.8560 - accuracy: 0.8973 - dice_metric: 0.8728",
          "output_type": "stream"
        },
        {
          "name": "stderr",
          "text": "Corrupt JPEG data: premature end of data segment\nCorrupt JPEG data: 240 extraneous bytes before marker 0xd9\n",
          "output_type": "stream"
        },
        {
          "name": "stdout",
          "text": "93/93 [==============================] - 26s 182ms/step - loss: -0.8561 - accuracy: 0.8973 - dice_metric: 0.8730 - val_loss: -0.7983 - val_accuracy: 0.8370 - val_dice_metric: 0.7968\nEpoch 51/100\n",
          "output_type": "stream"
        },
        {
          "name": "stderr",
          "text": "Corrupt JPEG data: premature end of data segment\nCorrupt JPEG data: 240 extraneous bytes before marker 0xd9\n",
          "output_type": "stream"
        },
        {
          "name": "stdout",
          "text": "92/93 [============================>.] - ETA: 0s - loss: -0.8577 - accuracy: 0.8982 - dice_metric: 0.8741",
          "output_type": "stream"
        },
        {
          "name": "stderr",
          "text": "Corrupt JPEG data: premature end of data segment\nCorrupt JPEG data: 240 extraneous bytes before marker 0xd9\n",
          "output_type": "stream"
        },
        {
          "name": "stdout",
          "text": "93/93 [==============================] - 27s 191ms/step - loss: -0.8577 - accuracy: 0.8983 - dice_metric: 0.8742 - val_loss: -0.7970 - val_accuracy: 0.8369 - val_dice_metric: 0.7956\nEpoch 52/100\n",
          "output_type": "stream"
        },
        {
          "name": "stderr",
          "text": "Corrupt JPEG data: premature end of data segment\nCorrupt JPEG data: 240 extraneous bytes before marker 0xd9\n",
          "output_type": "stream"
        },
        {
          "name": "stdout",
          "text": "92/93 [============================>.] - ETA: 0s - loss: -0.8592 - accuracy: 0.8992 - dice_metric: 0.8753",
          "output_type": "stream"
        },
        {
          "name": "stderr",
          "text": "Corrupt JPEG data: premature end of data segment\nCorrupt JPEG data: 240 extraneous bytes before marker 0xd9\n",
          "output_type": "stream"
        },
        {
          "name": "stdout",
          "text": "93/93 [==============================] - 26s 188ms/step - loss: -0.8592 - accuracy: 0.8992 - dice_metric: 0.8755 - val_loss: -0.7943 - val_accuracy: 0.8355 - val_dice_metric: 0.7927\nEpoch 53/100\n",
          "output_type": "stream"
        },
        {
          "name": "stderr",
          "text": "Corrupt JPEG data: premature end of data segment\nCorrupt JPEG data: 240 extraneous bytes before marker 0xd9\n",
          "output_type": "stream"
        },
        {
          "name": "stdout",
          "text": "92/93 [============================>.] - ETA: 0s - loss: -0.8606 - accuracy: 0.9000 - dice_metric: 0.8765",
          "output_type": "stream"
        },
        {
          "name": "stderr",
          "text": "Corrupt JPEG data: premature end of data segment\nCorrupt JPEG data: 240 extraneous bytes before marker 0xd9\n",
          "output_type": "stream"
        },
        {
          "name": "stdout",
          "text": "93/93 [==============================] - 26s 184ms/step - loss: -0.8606 - accuracy: 0.9001 - dice_metric: 0.8766 - val_loss: -0.7901 - val_accuracy: 0.8324 - val_dice_metric: 0.7886\nEpoch 54/100\n",
          "output_type": "stream"
        },
        {
          "name": "stderr",
          "text": "Corrupt JPEG data: premature end of data segment\nCorrupt JPEG data: 240 extraneous bytes before marker 0xd9\n",
          "output_type": "stream"
        },
        {
          "name": "stdout",
          "text": "92/93 [============================>.] - ETA: 0s - loss: -0.8615 - accuracy: 0.9005 - dice_metric: 0.8771",
          "output_type": "stream"
        },
        {
          "name": "stderr",
          "text": "Corrupt JPEG data: premature end of data segment\nCorrupt JPEG data: 240 extraneous bytes before marker 0xd9\n",
          "output_type": "stream"
        },
        {
          "name": "stdout",
          "text": "93/93 [==============================] - 26s 186ms/step - loss: -0.8615 - accuracy: 0.9005 - dice_metric: 0.8772 - val_loss: -0.7869 - val_accuracy: 0.8301 - val_dice_metric: 0.7854\nEpoch 55/100\n",
          "output_type": "stream"
        },
        {
          "name": "stderr",
          "text": "Corrupt JPEG data: premature end of data segment\nCorrupt JPEG data: 240 extraneous bytes before marker 0xd9\n",
          "output_type": "stream"
        },
        {
          "name": "stdout",
          "text": "92/93 [============================>.] - ETA: 0s - loss: -0.8617 - accuracy: 0.9005 - dice_metric: 0.8769",
          "output_type": "stream"
        },
        {
          "name": "stderr",
          "text": "Corrupt JPEG data: premature end of data segment\nCorrupt JPEG data: 240 extraneous bytes before marker 0xd9\n",
          "output_type": "stream"
        },
        {
          "name": "stdout",
          "text": "93/93 [==============================] - 26s 183ms/step - loss: -0.8618 - accuracy: 0.9005 - dice_metric: 0.8771 - val_loss: -0.7914 - val_accuracy: 0.8337 - val_dice_metric: 0.7898\nEpoch 56/100\n",
          "output_type": "stream"
        },
        {
          "name": "stderr",
          "text": "Corrupt JPEG data: premature end of data segment\nCorrupt JPEG data: 240 extraneous bytes before marker 0xd9\n",
          "output_type": "stream"
        },
        {
          "name": "stdout",
          "text": "92/93 [============================>.] - ETA: 0s - loss: -0.8627 - accuracy: 0.9012 - dice_metric: 0.8777",
          "output_type": "stream"
        },
        {
          "name": "stderr",
          "text": "Corrupt JPEG data: premature end of data segment\nCorrupt JPEG data: 240 extraneous bytes before marker 0xd9\n",
          "output_type": "stream"
        },
        {
          "name": "stdout",
          "text": "93/93 [==============================] - 26s 186ms/step - loss: -0.8628 - accuracy: 0.9013 - dice_metric: 0.8779 - val_loss: -0.7935 - val_accuracy: 0.8358 - val_dice_metric: 0.7917\nEpoch 57/100\n",
          "output_type": "stream"
        },
        {
          "name": "stderr",
          "text": "Corrupt JPEG data: premature end of data segment\nCorrupt JPEG data: 240 extraneous bytes before marker 0xd9\n",
          "output_type": "stream"
        },
        {
          "name": "stdout",
          "text": "92/93 [============================>.] - ETA: 0s - loss: -0.8631 - accuracy: 0.9014 - dice_metric: 0.8778",
          "output_type": "stream"
        },
        {
          "name": "stderr",
          "text": "Corrupt JPEG data: premature end of data segment\nCorrupt JPEG data: 240 extraneous bytes before marker 0xd9\n",
          "output_type": "stream"
        },
        {
          "name": "stdout",
          "text": "93/93 [==============================] - 26s 189ms/step - loss: -0.8632 - accuracy: 0.9015 - dice_metric: 0.8780 - val_loss: -0.7925 - val_accuracy: 0.8349 - val_dice_metric: 0.7905\nEpoch 58/100\n",
          "output_type": "stream"
        },
        {
          "name": "stderr",
          "text": "Corrupt JPEG data: premature end of data segment\nCorrupt JPEG data: 240 extraneous bytes before marker 0xd9\n",
          "output_type": "stream"
        },
        {
          "name": "stdout",
          "text": "92/93 [============================>.] - ETA: 0s - loss: -0.8631 - accuracy: 0.9012 - dice_metric: 0.8775",
          "output_type": "stream"
        },
        {
          "name": "stderr",
          "text": "Corrupt JPEG data: premature end of data segment\nCorrupt JPEG data: 240 extraneous bytes before marker 0xd9\n",
          "output_type": "stream"
        },
        {
          "name": "stdout",
          "text": "93/93 [==============================] - 26s 184ms/step - loss: -0.8631 - accuracy: 0.9012 - dice_metric: 0.8777 - val_loss: -0.7945 - val_accuracy: 0.8351 - val_dice_metric: 0.7920\nEpoch 59/100\n",
          "output_type": "stream"
        },
        {
          "name": "stderr",
          "text": "Corrupt JPEG data: premature end of data segment\nCorrupt JPEG data: 240 extraneous bytes before marker 0xd9\n",
          "output_type": "stream"
        },
        {
          "name": "stdout",
          "text": "92/93 [============================>.] - ETA: 0s - loss: -0.8640 - accuracy: 0.9018 - dice_metric: 0.8782",
          "output_type": "stream"
        },
        {
          "name": "stderr",
          "text": "Corrupt JPEG data: premature end of data segment\nCorrupt JPEG data: 240 extraneous bytes before marker 0xd9\n",
          "output_type": "stream"
        },
        {
          "name": "stdout",
          "text": "93/93 [==============================] - 26s 185ms/step - loss: -0.8641 - accuracy: 0.9018 - dice_metric: 0.8784 - val_loss: -0.7894 - val_accuracy: 0.8321 - val_dice_metric: 0.7870\nEpoch 60/100\n",
          "output_type": "stream"
        },
        {
          "name": "stderr",
          "text": "Corrupt JPEG data: premature end of data segment\nCorrupt JPEG data: 240 extraneous bytes before marker 0xd9\n",
          "output_type": "stream"
        },
        {
          "name": "stdout",
          "text": "92/93 [============================>.] - ETA: 0s - loss: -0.8652 - accuracy: 0.9025 - dice_metric: 0.8791",
          "output_type": "stream"
        },
        {
          "name": "stderr",
          "text": "Corrupt JPEG data: premature end of data segment\nCorrupt JPEG data: 240 extraneous bytes before marker 0xd9\n",
          "output_type": "stream"
        },
        {
          "name": "stdout",
          "text": "93/93 [==============================] - 26s 183ms/step - loss: -0.8652 - accuracy: 0.9026 - dice_metric: 0.8793 - val_loss: -0.7912 - val_accuracy: 0.8325 - val_dice_metric: 0.7884\nEpoch 61/100\n",
          "output_type": "stream"
        },
        {
          "name": "stderr",
          "text": "Corrupt JPEG data: premature end of data segment\nCorrupt JPEG data: 240 extraneous bytes before marker 0xd9\n",
          "output_type": "stream"
        },
        {
          "name": "stdout",
          "text": "92/93 [============================>.] - ETA: 0s - loss: -0.8663 - accuracy: 0.9034 - dice_metric: 0.8801",
          "output_type": "stream"
        },
        {
          "name": "stderr",
          "text": "Corrupt JPEG data: premature end of data segment\nCorrupt JPEG data: 240 extraneous bytes before marker 0xd9\n",
          "output_type": "stream"
        },
        {
          "name": "stdout",
          "text": "93/93 [==============================] - 26s 186ms/step - loss: -0.8664 - accuracy: 0.9035 - dice_metric: 0.8803 - val_loss: -0.7943 - val_accuracy: 0.8330 - val_dice_metric: 0.7911\nEpoch 62/100\n",
          "output_type": "stream"
        },
        {
          "name": "stderr",
          "text": "Corrupt JPEG data: premature end of data segment\nCorrupt JPEG data: 240 extraneous bytes before marker 0xd9\n",
          "output_type": "stream"
        },
        {
          "name": "stdout",
          "text": "92/93 [============================>.] - ETA: 0s - loss: -0.8677 - accuracy: 0.9045 - dice_metric: 0.8814",
          "output_type": "stream"
        },
        {
          "name": "stderr",
          "text": "Corrupt JPEG data: premature end of data segment\nCorrupt JPEG data: 240 extraneous bytes before marker 0xd9\n",
          "output_type": "stream"
        },
        {
          "name": "stdout",
          "text": "93/93 [==============================] - 26s 190ms/step - loss: -0.8678 - accuracy: 0.9046 - dice_metric: 0.8816 - val_loss: -0.7981 - val_accuracy: 0.8352 - val_dice_metric: 0.7947\nEpoch 63/100\n",
          "output_type": "stream"
        },
        {
          "name": "stderr",
          "text": "Corrupt JPEG data: premature end of data segment\nCorrupt JPEG data: 240 extraneous bytes before marker 0xd9\n",
          "output_type": "stream"
        },
        {
          "name": "stdout",
          "text": "92/93 [============================>.] - ETA: 0s - loss: -0.8685 - accuracy: 0.9051 - dice_metric: 0.8819",
          "output_type": "stream"
        },
        {
          "name": "stderr",
          "text": "Corrupt JPEG data: premature end of data segment\nCorrupt JPEG data: 240 extraneous bytes before marker 0xd9\n",
          "output_type": "stream"
        },
        {
          "name": "stdout",
          "text": "93/93 [==============================] - 26s 186ms/step - loss: -0.8686 - accuracy: 0.9052 - dice_metric: 0.8821 - val_loss: -0.7977 - val_accuracy: 0.8359 - val_dice_metric: 0.7941\nEpoch 64/100\n",
          "output_type": "stream"
        },
        {
          "name": "stderr",
          "text": "Corrupt JPEG data: premature end of data segment\nCorrupt JPEG data: 240 extraneous bytes before marker 0xd9\n",
          "output_type": "stream"
        },
        {
          "name": "stdout",
          "text": "92/93 [============================>.] - ETA: 0s - loss: -0.8693 - accuracy: 0.9057 - dice_metric: 0.8825",
          "output_type": "stream"
        },
        {
          "name": "stderr",
          "text": "Corrupt JPEG data: premature end of data segment\nCorrupt JPEG data: 240 extraneous bytes before marker 0xd9\n",
          "output_type": "stream"
        },
        {
          "name": "stdout",
          "text": "93/93 [==============================] - 26s 185ms/step - loss: -0.8694 - accuracy: 0.9058 - dice_metric: 0.8827 - val_loss: -0.7939 - val_accuracy: 0.8347 - val_dice_metric: 0.7907\nEpoch 65/100\n",
          "output_type": "stream"
        },
        {
          "name": "stderr",
          "text": "Corrupt JPEG data: premature end of data segment\nCorrupt JPEG data: 240 extraneous bytes before marker 0xd9\n",
          "output_type": "stream"
        },
        {
          "name": "stdout",
          "text": "92/93 [============================>.] - ETA: 0s - loss: -0.8700 - accuracy: 0.9062 - dice_metric: 0.8830",
          "output_type": "stream"
        },
        {
          "name": "stderr",
          "text": "Corrupt JPEG data: premature end of data segment\nCorrupt JPEG data: 240 extraneous bytes before marker 0xd9\n",
          "output_type": "stream"
        },
        {
          "name": "stdout",
          "text": "93/93 [==============================] - 26s 183ms/step - loss: -0.8701 - accuracy: 0.9063 - dice_metric: 0.8833 - val_loss: -0.7900 - val_accuracy: 0.8335 - val_dice_metric: 0.7872\nEpoch 66/100\n",
          "output_type": "stream"
        },
        {
          "name": "stderr",
          "text": "Corrupt JPEG data: premature end of data segment\nCorrupt JPEG data: 240 extraneous bytes before marker 0xd9\n",
          "output_type": "stream"
        },
        {
          "name": "stdout",
          "text": "92/93 [============================>.] - ETA: 0s - loss: -0.8706 - accuracy: 0.9066 - dice_metric: 0.8835",
          "output_type": "stream"
        },
        {
          "name": "stderr",
          "text": "Corrupt JPEG data: premature end of data segment\nCorrupt JPEG data: 240 extraneous bytes before marker 0xd9\n",
          "output_type": "stream"
        },
        {
          "name": "stdout",
          "text": "93/93 [==============================] - 26s 184ms/step - loss: -0.8707 - accuracy: 0.9066 - dice_metric: 0.8837 - val_loss: -0.7823 - val_accuracy: 0.8304 - val_dice_metric: 0.7800\nEpoch 67/100\n",
          "output_type": "stream"
        },
        {
          "name": "stderr",
          "text": "Corrupt JPEG data: premature end of data segment\nCorrupt JPEG data: 240 extraneous bytes before marker 0xd9\n",
          "output_type": "stream"
        },
        {
          "name": "stdout",
          "text": "92/93 [============================>.] - ETA: 0s - loss: -0.8719 - accuracy: 0.9074 - dice_metric: 0.8845",
          "output_type": "stream"
        },
        {
          "name": "stderr",
          "text": "Corrupt JPEG data: premature end of data segment\nCorrupt JPEG data: 240 extraneous bytes before marker 0xd9\n",
          "output_type": "stream"
        },
        {
          "name": "stdout",
          "text": "93/93 [==============================] - 26s 187ms/step - loss: -0.8719 - accuracy: 0.9075 - dice_metric: 0.8847 - val_loss: -0.7773 - val_accuracy: 0.8280 - val_dice_metric: 0.7757\nEpoch 68/100\n",
          "output_type": "stream"
        },
        {
          "name": "stderr",
          "text": "Corrupt JPEG data: premature end of data segment\nCorrupt JPEG data: 240 extraneous bytes before marker 0xd9\n",
          "output_type": "stream"
        },
        {
          "name": "stdout",
          "text": "92/93 [============================>.] - ETA: 0s - loss: -0.8726 - accuracy: 0.9078 - dice_metric: 0.8850",
          "output_type": "stream"
        },
        {
          "name": "stderr",
          "text": "Corrupt JPEG data: premature end of data segment\nCorrupt JPEG data: 240 extraneous bytes before marker 0xd9\n",
          "output_type": "stream"
        },
        {
          "name": "stdout",
          "text": "93/93 [==============================] - 26s 190ms/step - loss: -0.8727 - accuracy: 0.9079 - dice_metric: 0.8852 - val_loss: -0.7802 - val_accuracy: 0.8295 - val_dice_metric: 0.7780\nEpoch 69/100\n",
          "output_type": "stream"
        },
        {
          "name": "stderr",
          "text": "Corrupt JPEG data: premature end of data segment\nCorrupt JPEG data: 240 extraneous bytes before marker 0xd9\n",
          "output_type": "stream"
        },
        {
          "name": "stdout",
          "text": "92/93 [============================>.] - ETA: 0s - loss: -0.8734 - accuracy: 0.9082 - dice_metric: 0.8856",
          "output_type": "stream"
        },
        {
          "name": "stderr",
          "text": "Corrupt JPEG data: premature end of data segment\nCorrupt JPEG data: 240 extraneous bytes before marker 0xd9\n",
          "output_type": "stream"
        },
        {
          "name": "stdout",
          "text": "93/93 [==============================] - 26s 186ms/step - loss: -0.8735 - accuracy: 0.9083 - dice_metric: 0.8858 - val_loss: -0.7811 - val_accuracy: 0.8304 - val_dice_metric: 0.7788\nEpoch 70/100\n",
          "output_type": "stream"
        },
        {
          "name": "stderr",
          "text": "Corrupt JPEG data: premature end of data segment\nCorrupt JPEG data: 240 extraneous bytes before marker 0xd9\n",
          "output_type": "stream"
        },
        {
          "name": "stdout",
          "text": "92/93 [============================>.] - ETA: 0s - loss: -0.8746 - accuracy: 0.9091 - dice_metric: 0.8866",
          "output_type": "stream"
        },
        {
          "name": "stderr",
          "text": "Corrupt JPEG data: premature end of data segment\nCorrupt JPEG data: 240 extraneous bytes before marker 0xd9\n",
          "output_type": "stream"
        },
        {
          "name": "stdout",
          "text": "93/93 [==============================] - 26s 182ms/step - loss: -0.8747 - accuracy: 0.9091 - dice_metric: 0.8868 - val_loss: -0.7823 - val_accuracy: 0.8302 - val_dice_metric: 0.7800\nEpoch 71/100\n",
          "output_type": "stream"
        },
        {
          "name": "stderr",
          "text": "Corrupt JPEG data: premature end of data segment\nCorrupt JPEG data: 240 extraneous bytes before marker 0xd9\n",
          "output_type": "stream"
        },
        {
          "name": "stdout",
          "text": "92/93 [============================>.] - ETA: 0s - loss: -0.8755 - accuracy: 0.9096 - dice_metric: 0.8872",
          "output_type": "stream"
        },
        {
          "name": "stderr",
          "text": "Corrupt JPEG data: premature end of data segment\nCorrupt JPEG data: 240 extraneous bytes before marker 0xd9\n",
          "output_type": "stream"
        },
        {
          "name": "stdout",
          "text": "93/93 [==============================] - 26s 184ms/step - loss: -0.8756 - accuracy: 0.9096 - dice_metric: 0.8875 - val_loss: -0.7848 - val_accuracy: 0.8307 - val_dice_metric: 0.7820\nEpoch 72/100\n",
          "output_type": "stream"
        },
        {
          "name": "stderr",
          "text": "Corrupt JPEG data: premature end of data segment\nCorrupt JPEG data: 240 extraneous bytes before marker 0xd9\n",
          "output_type": "stream"
        },
        {
          "name": "stdout",
          "text": "92/93 [============================>.] - ETA: 0s - loss: -0.8756 - accuracy: 0.9097 - dice_metric: 0.8873",
          "output_type": "stream"
        },
        {
          "name": "stderr",
          "text": "Corrupt JPEG data: premature end of data segment\nCorrupt JPEG data: 240 extraneous bytes before marker 0xd9\n",
          "output_type": "stream"
        },
        {
          "name": "stdout",
          "text": "93/93 [==============================] - 26s 186ms/step - loss: -0.8757 - accuracy: 0.9098 - dice_metric: 0.8875 - val_loss: -0.7898 - val_accuracy: 0.8326 - val_dice_metric: 0.7867\nEpoch 73/100\n",
          "output_type": "stream"
        },
        {
          "name": "stderr",
          "text": "Corrupt JPEG data: premature end of data segment\nCorrupt JPEG data: 240 extraneous bytes before marker 0xd9\n",
          "output_type": "stream"
        },
        {
          "name": "stdout",
          "text": "92/93 [============================>.] - ETA: 0s - loss: -0.8764 - accuracy: 0.9101 - dice_metric: 0.8878",
          "output_type": "stream"
        },
        {
          "name": "stderr",
          "text": "Corrupt JPEG data: premature end of data segment\nCorrupt JPEG data: 240 extraneous bytes before marker 0xd9\n",
          "output_type": "stream"
        },
        {
          "name": "stdout",
          "text": "93/93 [==============================] - 26s 188ms/step - loss: -0.8765 - accuracy: 0.9102 - dice_metric: 0.8880 - val_loss: -0.7926 - val_accuracy: 0.8332 - val_dice_metric: 0.7892\nEpoch 74/100\n",
          "output_type": "stream"
        },
        {
          "name": "stderr",
          "text": "Corrupt JPEG data: premature end of data segment\nCorrupt JPEG data: 240 extraneous bytes before marker 0xd9\n",
          "output_type": "stream"
        },
        {
          "name": "stdout",
          "text": "92/93 [============================>.] - ETA: 0s - loss: -0.8769 - accuracy: 0.9104 - dice_metric: 0.8881",
          "output_type": "stream"
        },
        {
          "name": "stderr",
          "text": "Corrupt JPEG data: premature end of data segment\nCorrupt JPEG data: 240 extraneous bytes before marker 0xd9\n",
          "output_type": "stream"
        },
        {
          "name": "stdout",
          "text": "93/93 [==============================] - 26s 191ms/step - loss: -0.8770 - accuracy: 0.9105 - dice_metric: 0.8883 - val_loss: -0.7946 - val_accuracy: 0.8339 - val_dice_metric: 0.7906\nEpoch 75/100\n",
          "output_type": "stream"
        },
        {
          "name": "stderr",
          "text": "Corrupt JPEG data: premature end of data segment\nCorrupt JPEG data: 240 extraneous bytes before marker 0xd9\n",
          "output_type": "stream"
        },
        {
          "name": "stdout",
          "text": "92/93 [============================>.] - ETA: 0s - loss: -0.8774 - accuracy: 0.9107 - dice_metric: 0.8883",
          "output_type": "stream"
        },
        {
          "name": "stderr",
          "text": "Corrupt JPEG data: premature end of data segment\nCorrupt JPEG data: 240 extraneous bytes before marker 0xd9\n",
          "output_type": "stream"
        },
        {
          "name": "stdout",
          "text": "93/93 [==============================] - 26s 188ms/step - loss: -0.8775 - accuracy: 0.9108 - dice_metric: 0.8886 - val_loss: -0.7938 - val_accuracy: 0.8335 - val_dice_metric: 0.7894\nEpoch 76/100\n",
          "output_type": "stream"
        },
        {
          "name": "stderr",
          "text": "Corrupt JPEG data: premature end of data segment\nCorrupt JPEG data: 240 extraneous bytes before marker 0xd9\n",
          "output_type": "stream"
        },
        {
          "name": "stdout",
          "text": "92/93 [============================>.] - ETA: 0s - loss: -0.8779 - accuracy: 0.9111 - dice_metric: 0.8886",
          "output_type": "stream"
        },
        {
          "name": "stderr",
          "text": "Corrupt JPEG data: premature end of data segment\nCorrupt JPEG data: 240 extraneous bytes before marker 0xd9\n",
          "output_type": "stream"
        },
        {
          "name": "stdout",
          "text": "93/93 [==============================] - 26s 188ms/step - loss: -0.8780 - accuracy: 0.9111 - dice_metric: 0.8889 - val_loss: -0.7999 - val_accuracy: 0.8362 - val_dice_metric: 0.7949\nEpoch 77/100\n",
          "output_type": "stream"
        },
        {
          "name": "stderr",
          "text": "Corrupt JPEG data: premature end of data segment\nCorrupt JPEG data: 240 extraneous bytes before marker 0xd9\n",
          "output_type": "stream"
        },
        {
          "name": "stdout",
          "text": "92/93 [============================>.] - ETA: 0s - loss: -0.8788 - accuracy: 0.9116 - dice_metric: 0.8893",
          "output_type": "stream"
        },
        {
          "name": "stderr",
          "text": "Corrupt JPEG data: premature end of data segment\nCorrupt JPEG data: 240 extraneous bytes before marker 0xd9\n",
          "output_type": "stream"
        },
        {
          "name": "stdout",
          "text": "93/93 [==============================] - 26s 186ms/step - loss: -0.8789 - accuracy: 0.9117 - dice_metric: 0.8896 - val_loss: -0.7984 - val_accuracy: 0.8363 - val_dice_metric: 0.7935\nEpoch 78/100\n",
          "output_type": "stream"
        },
        {
          "name": "stderr",
          "text": "Corrupt JPEG data: premature end of data segment\nCorrupt JPEG data: 240 extraneous bytes before marker 0xd9\n",
          "output_type": "stream"
        },
        {
          "name": "stdout",
          "text": "92/93 [============================>.] - ETA: 0s - loss: -0.8790 - accuracy: 0.9117 - dice_metric: 0.8894",
          "output_type": "stream"
        },
        {
          "name": "stderr",
          "text": "Corrupt JPEG data: premature end of data segment\nCorrupt JPEG data: 240 extraneous bytes before marker 0xd9\n",
          "output_type": "stream"
        },
        {
          "name": "stdout",
          "text": "93/93 [==============================] - 26s 183ms/step - loss: -0.8791 - accuracy: 0.9117 - dice_metric: 0.8896 - val_loss: -0.7966 - val_accuracy: 0.8360 - val_dice_metric: 0.7919\nEpoch 79/100\n",
          "output_type": "stream"
        },
        {
          "name": "stderr",
          "text": "Corrupt JPEG data: premature end of data segment\nCorrupt JPEG data: 240 extraneous bytes before marker 0xd9\n",
          "output_type": "stream"
        },
        {
          "name": "stdout",
          "text": "92/93 [============================>.] - ETA: 0s - loss: -0.8799 - accuracy: 0.9123 - dice_metric: 0.8900",
          "output_type": "stream"
        },
        {
          "name": "stderr",
          "text": "Corrupt JPEG data: premature end of data segment\nCorrupt JPEG data: 240 extraneous bytes before marker 0xd9\n",
          "output_type": "stream"
        },
        {
          "name": "stdout",
          "text": "93/93 [==============================] - 26s 184ms/step - loss: -0.8800 - accuracy: 0.9123 - dice_metric: 0.8902 - val_loss: -0.7930 - val_accuracy: 0.8335 - val_dice_metric: 0.7886\nEpoch 80/100\n",
          "output_type": "stream"
        },
        {
          "name": "stderr",
          "text": "Corrupt JPEG data: premature end of data segment\nCorrupt JPEG data: 240 extraneous bytes before marker 0xd9\n",
          "output_type": "stream"
        },
        {
          "name": "stdout",
          "text": "92/93 [============================>.] - ETA: 0s - loss: -0.8807 - accuracy: 0.9127 - dice_metric: 0.8906",
          "output_type": "stream"
        },
        {
          "name": "stderr",
          "text": "Corrupt JPEG data: premature end of data segment\nCorrupt JPEG data: 240 extraneous bytes before marker 0xd9\n",
          "output_type": "stream"
        },
        {
          "name": "stdout",
          "text": "93/93 [==============================] - 26s 186ms/step - loss: -0.8808 - accuracy: 0.9128 - dice_metric: 0.8908 - val_loss: -0.7887 - val_accuracy: 0.8308 - val_dice_metric: 0.7843\nEpoch 81/100\n",
          "output_type": "stream"
        },
        {
          "name": "stderr",
          "text": "Corrupt JPEG data: premature end of data segment\nCorrupt JPEG data: 240 extraneous bytes before marker 0xd9\n",
          "output_type": "stream"
        },
        {
          "name": "stdout",
          "text": "92/93 [============================>.] - ETA: 0s - loss: -0.8817 - accuracy: 0.9134 - dice_metric: 0.8914",
          "output_type": "stream"
        },
        {
          "name": "stderr",
          "text": "Corrupt JPEG data: premature end of data segment\nCorrupt JPEG data: 240 extraneous bytes before marker 0xd9\n",
          "output_type": "stream"
        },
        {
          "name": "stdout",
          "text": "93/93 [==============================] - 26s 186ms/step - loss: -0.8818 - accuracy: 0.9134 - dice_metric: 0.8916 - val_loss: -0.7866 - val_accuracy: 0.8295 - val_dice_metric: 0.7826\nEpoch 82/100\n",
          "output_type": "stream"
        },
        {
          "name": "stderr",
          "text": "Corrupt JPEG data: premature end of data segment\nCorrupt JPEG data: 240 extraneous bytes before marker 0xd9\n",
          "output_type": "stream"
        },
        {
          "name": "stdout",
          "text": "92/93 [============================>.] - ETA: 0s - loss: -0.8829 - accuracy: 0.9142 - dice_metric: 0.8924",
          "output_type": "stream"
        },
        {
          "name": "stderr",
          "text": "Corrupt JPEG data: premature end of data segment\nCorrupt JPEG data: 240 extraneous bytes before marker 0xd9\n",
          "output_type": "stream"
        },
        {
          "name": "stdout",
          "text": "93/93 [==============================] - 26s 188ms/step - loss: -0.8829 - accuracy: 0.9143 - dice_metric: 0.8926 - val_loss: -0.7902 - val_accuracy: 0.8298 - val_dice_metric: 0.7857\nEpoch 83/100\n",
          "output_type": "stream"
        },
        {
          "name": "stderr",
          "text": "Corrupt JPEG data: premature end of data segment\nCorrupt JPEG data: 240 extraneous bytes before marker 0xd9\n",
          "output_type": "stream"
        },
        {
          "name": "stdout",
          "text": "92/93 [============================>.] - ETA: 0s - loss: -0.8834 - accuracy: 0.9147 - dice_metric: 0.8928",
          "output_type": "stream"
        },
        {
          "name": "stderr",
          "text": "Corrupt JPEG data: premature end of data segment\nCorrupt JPEG data: 240 extraneous bytes before marker 0xd9\n",
          "output_type": "stream"
        },
        {
          "name": "stdout",
          "text": "93/93 [==============================] - 26s 181ms/step - loss: -0.8835 - accuracy: 0.9148 - dice_metric: 0.8931 - val_loss: -0.7966 - val_accuracy: 0.8333 - val_dice_metric: 0.7916\nEpoch 84/100\n",
          "output_type": "stream"
        },
        {
          "name": "stderr",
          "text": "Corrupt JPEG data: premature end of data segment\nCorrupt JPEG data: 240 extraneous bytes before marker 0xd9\n",
          "output_type": "stream"
        },
        {
          "name": "stdout",
          "text": "92/93 [============================>.] - ETA: 0s - loss: -0.8841 - accuracy: 0.9152 - dice_metric: 0.8933",
          "output_type": "stream"
        },
        {
          "name": "stderr",
          "text": "Corrupt JPEG data: premature end of data segment\nCorrupt JPEG data: 240 extraneous bytes before marker 0xd9\n",
          "output_type": "stream"
        },
        {
          "name": "stdout",
          "text": "93/93 [==============================] - 26s 182ms/step - loss: -0.8842 - accuracy: 0.9152 - dice_metric: 0.8935 - val_loss: -0.7990 - val_accuracy: 0.8346 - val_dice_metric: 0.7935\nEpoch 85/100\n",
          "output_type": "stream"
        },
        {
          "name": "stderr",
          "text": "Corrupt JPEG data: premature end of data segment\nCorrupt JPEG data: 240 extraneous bytes before marker 0xd9\n",
          "output_type": "stream"
        },
        {
          "name": "stdout",
          "text": "92/93 [============================>.] - ETA: 0s - loss: -0.8848 - accuracy: 0.9156 - dice_metric: 0.8938",
          "output_type": "stream"
        },
        {
          "name": "stderr",
          "text": "Corrupt JPEG data: premature end of data segment\nCorrupt JPEG data: 240 extraneous bytes before marker 0xd9\n",
          "output_type": "stream"
        },
        {
          "name": "stdout",
          "text": "93/93 [==============================] - 26s 184ms/step - loss: -0.8848 - accuracy: 0.9157 - dice_metric: 0.8940 - val_loss: -0.7989 - val_accuracy: 0.8340 - val_dice_metric: 0.7933\nEpoch 86/100\n",
          "output_type": "stream"
        },
        {
          "name": "stderr",
          "text": "Corrupt JPEG data: premature end of data segment\nCorrupt JPEG data: 240 extraneous bytes before marker 0xd9\n",
          "output_type": "stream"
        },
        {
          "name": "stdout",
          "text": "92/93 [============================>.] - ETA: 0s - loss: -0.8855 - accuracy: 0.9161 - dice_metric: 0.8944",
          "output_type": "stream"
        },
        {
          "name": "stderr",
          "text": "Corrupt JPEG data: premature end of data segment\nCorrupt JPEG data: 240 extraneous bytes before marker 0xd9\n",
          "output_type": "stream"
        },
        {
          "name": "stdout",
          "text": "93/93 [==============================] - 26s 188ms/step - loss: -0.8856 - accuracy: 0.9162 - dice_metric: 0.8946 - val_loss: -0.7994 - val_accuracy: 0.8344 - val_dice_metric: 0.7940\nEpoch 87/100\n",
          "output_type": "stream"
        },
        {
          "name": "stderr",
          "text": "Corrupt JPEG data: premature end of data segment\nCorrupt JPEG data: 240 extraneous bytes before marker 0xd9\n",
          "output_type": "stream"
        },
        {
          "name": "stdout",
          "text": "92/93 [============================>.] - ETA: 0s - loss: -0.8861 - accuracy: 0.9166 - dice_metric: 0.8950",
          "output_type": "stream"
        },
        {
          "name": "stderr",
          "text": "Corrupt JPEG data: premature end of data segment\nCorrupt JPEG data: 240 extraneous bytes before marker 0xd9\n",
          "output_type": "stream"
        },
        {
          "name": "stdout",
          "text": "93/93 [==============================] - 26s 192ms/step - loss: -0.8862 - accuracy: 0.9166 - dice_metric: 0.8952 - val_loss: -0.8017 - val_accuracy: 0.8362 - val_dice_metric: 0.7960\nEpoch 88/100\n",
          "output_type": "stream"
        },
        {
          "name": "stderr",
          "text": "Corrupt JPEG data: premature end of data segment\nCorrupt JPEG data: 240 extraneous bytes before marker 0xd9\n",
          "output_type": "stream"
        },
        {
          "name": "stdout",
          "text": "92/93 [============================>.] - ETA: 0s - loss: -0.8870 - accuracy: 0.9171 - dice_metric: 0.8957",
          "output_type": "stream"
        },
        {
          "name": "stderr",
          "text": "Corrupt JPEG data: premature end of data segment\nCorrupt JPEG data: 240 extraneous bytes before marker 0xd9\n",
          "output_type": "stream"
        },
        {
          "name": "stdout",
          "text": "93/93 [==============================] - 26s 183ms/step - loss: -0.8871 - accuracy: 0.9172 - dice_metric: 0.8959 - val_loss: -0.8009 - val_accuracy: 0.8365 - val_dice_metric: 0.7954\nEpoch 89/100\n",
          "output_type": "stream"
        },
        {
          "name": "stderr",
          "text": "Corrupt JPEG data: premature end of data segment\nCorrupt JPEG data: 240 extraneous bytes before marker 0xd9\n",
          "output_type": "stream"
        },
        {
          "name": "stdout",
          "text": "92/93 [============================>.] - ETA: 0s - loss: -0.8872 - accuracy: 0.9173 - dice_metric: 0.8959",
          "output_type": "stream"
        },
        {
          "name": "stderr",
          "text": "Corrupt JPEG data: premature end of data segment\nCorrupt JPEG data: 240 extraneous bytes before marker 0xd9\n",
          "output_type": "stream"
        },
        {
          "name": "stdout",
          "text": "93/93 [==============================] - 26s 182ms/step - loss: -0.8873 - accuracy: 0.9173 - dice_metric: 0.8961 - val_loss: -0.7996 - val_accuracy: 0.8364 - val_dice_metric: 0.7941\nEpoch 90/100\n",
          "output_type": "stream"
        },
        {
          "name": "stderr",
          "text": "Corrupt JPEG data: premature end of data segment\nCorrupt JPEG data: 240 extraneous bytes before marker 0xd9\n",
          "output_type": "stream"
        },
        {
          "name": "stdout",
          "text": "92/93 [============================>.] - ETA: 0s - loss: -0.8877 - accuracy: 0.9176 - dice_metric: 0.8963",
          "output_type": "stream"
        },
        {
          "name": "stderr",
          "text": "Corrupt JPEG data: premature end of data segment\nCorrupt JPEG data: 240 extraneous bytes before marker 0xd9\n",
          "output_type": "stream"
        },
        {
          "name": "stdout",
          "text": "93/93 [==============================] - 26s 184ms/step - loss: -0.8878 - accuracy: 0.9176 - dice_metric: 0.8965 - val_loss: -0.7975 - val_accuracy: 0.8360 - val_dice_metric: 0.7922\nEpoch 91/100\n",
          "output_type": "stream"
        },
        {
          "name": "stderr",
          "text": "Corrupt JPEG data: premature end of data segment\nCorrupt JPEG data: 240 extraneous bytes before marker 0xd9\n",
          "output_type": "stream"
        },
        {
          "name": "stdout",
          "text": "92/93 [============================>.] - ETA: 0s - loss: -0.8876 - accuracy: 0.9174 - dice_metric: 0.8960",
          "output_type": "stream"
        },
        {
          "name": "stderr",
          "text": "Corrupt JPEG data: premature end of data segment\nCorrupt JPEG data: 240 extraneous bytes before marker 0xd9\n",
          "output_type": "stream"
        },
        {
          "name": "stdout",
          "text": "93/93 [==============================] - 25s 180ms/step - loss: -0.8877 - accuracy: 0.9175 - dice_metric: 0.8962 - val_loss: -0.7950 - val_accuracy: 0.8336 - val_dice_metric: 0.7896\nEpoch 92/100\n",
          "output_type": "stream"
        },
        {
          "name": "stderr",
          "text": "Corrupt JPEG data: premature end of data segment\nCorrupt JPEG data: 240 extraneous bytes before marker 0xd9\n",
          "output_type": "stream"
        },
        {
          "name": "stdout",
          "text": "92/93 [============================>.] - ETA: 0s - loss: -0.8873 - accuracy: 0.9171 - dice_metric: 0.8955",
          "output_type": "stream"
        },
        {
          "name": "stderr",
          "text": "Corrupt JPEG data: premature end of data segment\nCorrupt JPEG data: 240 extraneous bytes before marker 0xd9\n",
          "output_type": "stream"
        },
        {
          "name": "stdout",
          "text": "93/93 [==============================] - 26s 188ms/step - loss: -0.8874 - accuracy: 0.9171 - dice_metric: 0.8957 - val_loss: -0.7994 - val_accuracy: 0.8365 - val_dice_metric: 0.7937\nEpoch 93/100\n",
          "output_type": "stream"
        },
        {
          "name": "stderr",
          "text": "Corrupt JPEG data: premature end of data segment\nCorrupt JPEG data: 240 extraneous bytes before marker 0xd9\n",
          "output_type": "stream"
        },
        {
          "name": "stdout",
          "text": "92/93 [============================>.] - ETA: 0s - loss: -0.8869 - accuracy: 0.9167 - dice_metric: 0.8950",
          "output_type": "stream"
        },
        {
          "name": "stderr",
          "text": "Corrupt JPEG data: premature end of data segment\nCorrupt JPEG data: 240 extraneous bytes before marker 0xd9\n",
          "output_type": "stream"
        },
        {
          "name": "stdout",
          "text": "93/93 [==============================] - 26s 185ms/step - loss: -0.8869 - accuracy: 0.9167 - dice_metric: 0.8951 - val_loss: -0.7959 - val_accuracy: 0.8349 - val_dice_metric: 0.7903\nEpoch 94/100\n",
          "output_type": "stream"
        },
        {
          "name": "stderr",
          "text": "Corrupt JPEG data: premature end of data segment\nCorrupt JPEG data: 240 extraneous bytes before marker 0xd9\n",
          "output_type": "stream"
        },
        {
          "name": "stdout",
          "text": "92/93 [============================>.] - ETA: 0s - loss: -0.8869 - accuracy: 0.9166 - dice_metric: 0.8948",
          "output_type": "stream"
        },
        {
          "name": "stderr",
          "text": "Corrupt JPEG data: premature end of data segment\nCorrupt JPEG data: 240 extraneous bytes before marker 0xd9\n",
          "output_type": "stream"
        },
        {
          "name": "stdout",
          "text": "93/93 [==============================] - 26s 181ms/step - loss: -0.8870 - accuracy: 0.9166 - dice_metric: 0.8950 - val_loss: -0.7973 - val_accuracy: 0.8352 - val_dice_metric: 0.7913\nEpoch 95/100\n",
          "output_type": "stream"
        },
        {
          "name": "stderr",
          "text": "Corrupt JPEG data: premature end of data segment\nCorrupt JPEG data: 240 extraneous bytes before marker 0xd9\n",
          "output_type": "stream"
        },
        {
          "name": "stdout",
          "text": "92/93 [============================>.] - ETA: 0s - loss: -0.8872 - accuracy: 0.9168 - dice_metric: 0.8949",
          "output_type": "stream"
        },
        {
          "name": "stderr",
          "text": "Corrupt JPEG data: premature end of data segment\nCorrupt JPEG data: 240 extraneous bytes before marker 0xd9\n",
          "output_type": "stream"
        },
        {
          "name": "stdout",
          "text": "93/93 [==============================] - 26s 183ms/step - loss: -0.8872 - accuracy: 0.9168 - dice_metric: 0.8951 - val_loss: -0.7943 - val_accuracy: 0.8346 - val_dice_metric: 0.7886\nEpoch 96/100\n",
          "output_type": "stream"
        },
        {
          "name": "stderr",
          "text": "Corrupt JPEG data: premature end of data segment\nCorrupt JPEG data: 240 extraneous bytes before marker 0xd9\n",
          "output_type": "stream"
        },
        {
          "name": "stdout",
          "text": "92/93 [============================>.] - ETA: 0s - loss: -0.8874 - accuracy: 0.9168 - dice_metric: 0.8950",
          "output_type": "stream"
        },
        {
          "name": "stderr",
          "text": "Corrupt JPEG data: premature end of data segment\nCorrupt JPEG data: 240 extraneous bytes before marker 0xd9\n",
          "output_type": "stream"
        },
        {
          "name": "stdout",
          "text": "93/93 [==============================] - 26s 181ms/step - loss: -0.8874 - accuracy: 0.9169 - dice_metric: 0.8951 - val_loss: -0.7934 - val_accuracy: 0.8338 - val_dice_metric: 0.7881\nEpoch 97/100\n",
          "output_type": "stream"
        },
        {
          "name": "stderr",
          "text": "Corrupt JPEG data: premature end of data segment\nCorrupt JPEG data: 240 extraneous bytes before marker 0xd9\n",
          "output_type": "stream"
        },
        {
          "name": "stdout",
          "text": "92/93 [============================>.] - ETA: 0s - loss: -0.8880 - accuracy: 0.9172 - dice_metric: 0.8955",
          "output_type": "stream"
        },
        {
          "name": "stderr",
          "text": "Corrupt JPEG data: premature end of data segment\nCorrupt JPEG data: 240 extraneous bytes before marker 0xd9\n",
          "output_type": "stream"
        },
        {
          "name": "stdout",
          "text": "93/93 [==============================] - 26s 190ms/step - loss: -0.8881 - accuracy: 0.9173 - dice_metric: 0.8957 - val_loss: -0.7935 - val_accuracy: 0.8336 - val_dice_metric: 0.7883\nEpoch 98/100\n",
          "output_type": "stream"
        },
        {
          "name": "stderr",
          "text": "Corrupt JPEG data: premature end of data segment\nCorrupt JPEG data: 240 extraneous bytes before marker 0xd9\n",
          "output_type": "stream"
        },
        {
          "name": "stdout",
          "text": "92/93 [============================>.] - ETA: 0s - loss: -0.8889 - accuracy: 0.9178 - dice_metric: 0.8962",
          "output_type": "stream"
        },
        {
          "name": "stderr",
          "text": "Corrupt JPEG data: premature end of data segment\nCorrupt JPEG data: 240 extraneous bytes before marker 0xd9\n",
          "output_type": "stream"
        },
        {
          "name": "stdout",
          "text": "93/93 [==============================] - 26s 185ms/step - loss: -0.8889 - accuracy: 0.9179 - dice_metric: 0.8963 - val_loss: -0.7944 - val_accuracy: 0.8350 - val_dice_metric: 0.7893\nEpoch 99/100\n",
          "output_type": "stream"
        },
        {
          "name": "stderr",
          "text": "Corrupt JPEG data: premature end of data segment\nCorrupt JPEG data: 240 extraneous bytes before marker 0xd9\n",
          "output_type": "stream"
        },
        {
          "name": "stdout",
          "text": "92/93 [============================>.] - ETA: 0s - loss: -0.8903 - accuracy: 0.9188 - dice_metric: 0.8975",
          "output_type": "stream"
        },
        {
          "name": "stderr",
          "text": "Corrupt JPEG data: premature end of data segment\nCorrupt JPEG data: 240 extraneous bytes before marker 0xd9\n",
          "output_type": "stream"
        },
        {
          "name": "stdout",
          "text": "93/93 [==============================] - 26s 181ms/step - loss: -0.8903 - accuracy: 0.9189 - dice_metric: 0.8977 - val_loss: -0.7966 - val_accuracy: 0.8364 - val_dice_metric: 0.7918\nEpoch 100/100\n",
          "output_type": "stream"
        },
        {
          "name": "stderr",
          "text": "Corrupt JPEG data: premature end of data segment\nCorrupt JPEG data: 240 extraneous bytes before marker 0xd9\n",
          "output_type": "stream"
        },
        {
          "name": "stdout",
          "text": "92/93 [============================>.] - ETA: 0s - loss: -0.8918 - accuracy: 0.9200 - dice_metric: 0.8989",
          "output_type": "stream"
        },
        {
          "name": "stderr",
          "text": "Corrupt JPEG data: premature end of data segment\nCorrupt JPEG data: 240 extraneous bytes before marker 0xd9\n",
          "output_type": "stream"
        },
        {
          "name": "stdout",
          "text": "93/93 [==============================] - 27s 186ms/step - loss: -0.8918 - accuracy: 0.9201 - dice_metric: 0.8991 - val_loss: -0.7942 - val_accuracy: 0.8358 - val_dice_metric: 0.7891\n",
          "output_type": "stream"
        },
        {
          "execution_count": 9,
          "output_type": "execute_result",
          "data": {
            "text/plain": "<keras.callbacks.History at 0x7c669cb518d0>"
          },
          "metadata": {}
        }
      ],
      "execution_count": null
    },
    {
      "cell_type": "code",
      "source": [
        "# Guardar los pesos en un archivo\n",
        "model.save(\"unet-pets.keras\")"
      ],
      "metadata": {
        "execution": {
          "iopub.status.busy": "2025-03-06T22:16:42.490883Z",
          "iopub.execute_input": "2025-03-06T22:16:42.491115Z",
          "iopub.status.idle": "2025-03-06T22:16:42.729715Z",
          "shell.execute_reply.started": "2025-03-06T22:16:42.491096Z",
          "shell.execute_reply": "2025-03-06T22:16:42.728799Z"
        },
        "trusted": true,
        "id": "YkKevwPMmqIZ"
      },
      "outputs": [],
      "execution_count": null
    },
    {
      "cell_type": "code",
      "source": [
        "loss, accuracy, dice_coef = model.evaluate(test_ds)\n",
        "print(f'Loss: {loss}, Accuracy: {accuracy}, Dice Coefficient : {dice_coef}')"
      ],
      "metadata": {
        "execution": {
          "iopub.status.busy": "2025-03-06T22:16:42.731049Z",
          "iopub.execute_input": "2025-03-06T22:16:42.7318Z",
          "iopub.status.idle": "2025-03-06T22:16:51.926328Z",
          "shell.execute_reply.started": "2025-03-06T22:16:42.731765Z",
          "shell.execute_reply": "2025-03-06T22:16:51.925528Z"
        },
        "trusted": true,
        "id": "Gkwek_0LmqIZ",
        "outputId": "ce46b325-0f75-4dfb-8429-b3451589ef8d"
      },
      "outputs": [
        {
          "name": "stderr",
          "text": "Corrupt JPEG data: premature end of data segment\nCorrupt JPEG data: 240 extraneous bytes before marker 0xd9\n",
          "output_type": "stream"
        },
        {
          "name": "stdout",
          "text": "12/12 [==============================] - 9s 22ms/step - loss: -0.7958 - accuracy: 0.8354 - dice_metric: 0.7926\nLoss: -0.7958204746246338, Accuracy: 0.8353976607322693, Dice Coefficient : 0.792630672454834\n",
          "output_type": "stream"
        }
      ],
      "execution_count": null
    },
    {
      "cell_type": "code",
      "source": [
        "# Realizar la predicción para la primera muestra de la partición de evaluación\n",
        "for images,masks in test_ds:\n",
        "    print(f\"Images shape: {images.shape}\")\n",
        "    print(f\"Masks shape: {masks.shape}\")\n",
        "    break\n",
        "\n",
        "prediction = model.predict(images[0:1,...])"
      ],
      "metadata": {
        "execution": {
          "iopub.status.busy": "2025-03-06T22:16:51.928935Z",
          "iopub.execute_input": "2025-03-06T22:16:51.92922Z",
          "iopub.status.idle": "2025-03-06T22:17:02.795709Z",
          "shell.execute_reply.started": "2025-03-06T22:16:51.929199Z",
          "shell.execute_reply": "2025-03-06T22:17:02.79488Z"
        },
        "trusted": true,
        "id": "RojtObORmqIZ",
        "outputId": "552c9ede-6ad9-4ec5-c98d-4e4546e61a1d"
      },
      "outputs": [
        {
          "name": "stderr",
          "text": "Corrupt JPEG data: premature end of data segment\nCorrupt JPEG data: 240 extraneous bytes before marker 0xd9\n",
          "output_type": "stream"
        },
        {
          "name": "stdout",
          "text": "Images shape: (64, 128, 128, 3)\nMasks shape: (64, 128, 128, 1)\n1/1 [==============================] - 1s 527ms/step\n",
          "output_type": "stream"
        }
      ],
      "execution_count": null
    },
    {
      "cell_type": "code",
      "source": [
        "# Crear un subplot con 1 fila y 3 columnas\n",
        "fig, axs = plt.subplots(1, 3, figsize=(15, 5))\n",
        "\n",
        "# Graficar en cada subplot\n",
        "axs[0].imshow(images[0,...])\n",
        "axs[0].set_title('Imagen')\n",
        "axs[0].axis('off')\n",
        "\n",
        "axs[1].imshow(masks[0,...])\n",
        "axs[1].set_title('Máscara original')\n",
        "axs[1].axis('off')\n",
        "\n",
        "axs[2].imshow(tf.where(prediction[0,...]>0.5,1.0,0.0))\n",
        "axs[2].set_title('Máscara predicha')\n",
        "axs[2].axis('off')\n",
        "\n",
        "# Ajustar el espacio entre los subplots\n",
        "plt.tight_layout()\n",
        "\n",
        "# Mostrar el gráfico\n",
        "plt.show()"
      ],
      "metadata": {
        "execution": {
          "iopub.status.busy": "2025-03-06T22:17:02.796853Z",
          "iopub.execute_input": "2025-03-06T22:17:02.797109Z",
          "iopub.status.idle": "2025-03-06T22:17:03.201273Z",
          "shell.execute_reply.started": "2025-03-06T22:17:02.797087Z",
          "shell.execute_reply": "2025-03-06T22:17:03.200436Z"
        },
        "trusted": true,
        "id": "36prOKz8mqIa",
        "outputId": "f95215ac-e5b5-45a6-a327-a486e96c3aaf"
      },
      "outputs": [
        {
          "output_type": "display_data",
          "data": {
            "text/plain": "<Figure size 1500x500 with 3 Axes>",
            "image/png": "[encoded data removed]"
          },
          "metadata": {}
        }
      ],
      "execution_count": null
    }
  ]
}